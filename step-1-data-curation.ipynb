{
 "cells": [
  {
   "cell_type": "markdown",
   "metadata": {},
   "source": [
    "# Data Curation\n",
    "This notebook showcases the building blocks that can be used for building a simple data curation pipeline using [NeMo Curator](https://github.com/NVIDIA/NeMo-Curator).\n",
    "\n",
    "## Reading Materials\n",
    "Before proceeding, we highly recommend looking through the following deep dive blog posts that walk you through building data curation pipelines using NeMo Curator:\n",
    "- [Curating Custom Datasets for LLM Training with NVIDIA NeMo Curator](https://developer.nvidia.com/blog/curating-custom-datasets-for-llm-training-with-nvidia-nemo-curator/)\n",
    "- [Curating Custom Datasets for LLM Parameter-Efficient Fine-Tuning with NVIDIA NeMo Curator](https://developer.nvidia.com/blog/curating-custom-datasets-for-llm-parameter-efficient-fine-tuning-with-nvidia-nemo-curator/)\n",
    "\n",
    "Also, please checkout [our tutorials](https://github.com/NVIDIA/NeMo-Curator/tree/main/tutorials) in the repository to learn more about various functionalities that NeMo Curator provides.\n",
    "\n",
    "In this notebook, we will use the [Law-StackExchange dataset](https://huggingface.co/datasets/ymoslem/Law-StackExchange) for this pipeline, which is a dataset of legal question/answers scraped from the Stack Exchange website. This notebook is the summarized version of our existing [synthetic data generation tutorial](https://github.com/NVIDIA/NeMo-Curator/tree/main/tutorials/peft-curation-with-sdg). Feel free to go through that tutorial to gain a better understanding of various NeMo Curator facilities.\n",
    "\n",
    "## Setup and Requirements\n",
    "The NeMo dependencies are already installed in the container. However, before proceeding you need to install one dependency to follow along. Execute the following cell before getting started."
   ]
  },
  {
   "cell_type": "markdown",
   "metadata": {},
   "source": [
    "# Dataset exploration  \n",
    "Before starting to actually work with the dataset, we will explore the overall properties of the training dataset to gain some insights "
   ]
  },
  {
   "cell_type": "code",
   "execution_count": 31,
   "metadata": {},
   "outputs": [],
   "source": [
    "import os\n",
    "import pandas as pd\n",
    "import numpy as np\n",
    "import matplotlib.pyplot as plt\n",
    "from scipy.stats import sem"
   ]
  },
  {
   "cell_type": "code",
   "execution_count": 25,
   "metadata": {},
   "outputs": [
    {
     "data": {
      "text/html": [
       "<div>\n",
       "<style scoped>\n",
       "    .dataframe tbody tr th:only-of-type {\n",
       "        vertical-align: middle;\n",
       "    }\n",
       "\n",
       "    .dataframe tbody tr th {\n",
       "        vertical-align: top;\n",
       "    }\n",
       "\n",
       "    .dataframe thead th {\n",
       "        text-align: right;\n",
       "    }\n",
       "</style>\n",
       "<table border=\"1\" class=\"dataframe\">\n",
       "  <thead>\n",
       "    <tr style=\"text-align: right;\">\n",
       "      <th></th>\n",
       "      <th>question_id</th>\n",
       "      <th>tags</th>\n",
       "      <th>score</th>\n",
       "      <th>license</th>\n",
       "      <th>link</th>\n",
       "      <th>question_title</th>\n",
       "      <th>question_body</th>\n",
       "      <th>answers</th>\n",
       "    </tr>\n",
       "  </thead>\n",
       "  <tbody>\n",
       "    <tr>\n",
       "      <th>0</th>\n",
       "      <td>94665</td>\n",
       "      <td>[criminal-law, driving, sentencing]</td>\n",
       "      <td>23</td>\n",
       "      <td>CC BY-SA 4.0</td>\n",
       "      <td>https://law.stackexchange.com/questions/94665/...</td>\n",
       "      <td>Why is drunk driving causing accident punished...</td>\n",
       "      <td>&lt;p&gt;When people drink and drive and then cause ...</td>\n",
       "      <td>[{'answer_id': 94666, 'score': 72, 'body': '&lt;h...</td>\n",
       "    </tr>\n",
       "    <tr>\n",
       "      <th>1</th>\n",
       "      <td>94671</td>\n",
       "      <td>[contract-law, legal-terms, consideration]</td>\n",
       "      <td>0</td>\n",
       "      <td>CC BY-SA 4.0</td>\n",
       "      <td>https://law.stackexchange.com/questions/94671/...</td>\n",
       "      <td>What counts as consideration in contract law?</td>\n",
       "      <td>&lt;p&gt;What counts as consideration in contract la...</td>\n",
       "      <td>[{'answer_id': 94672, 'score': 1, 'body': '&lt;p&gt;...</td>\n",
       "    </tr>\n",
       "    <tr>\n",
       "      <th>2</th>\n",
       "      <td>94683</td>\n",
       "      <td>[employment, california, teenager]</td>\n",
       "      <td>1</td>\n",
       "      <td>CC BY-SA 4.0</td>\n",
       "      <td>https://law.stackexchange.com/questions/94683/...</td>\n",
       "      <td>Question Concerning Responding to Employer of ...</td>\n",
       "      <td>&lt;p&gt;My high school daughter worked for about a ...</td>\n",
       "      <td>[{'answer_id': 94687, 'score': 3, 'body': '&lt;h2...</td>\n",
       "    </tr>\n",
       "    <tr>\n",
       "      <th>3</th>\n",
       "      <td>67110</td>\n",
       "      <td>[united-states, constitutional-law, federalism]</td>\n",
       "      <td>2</td>\n",
       "      <td>CC BY-SA 4.0</td>\n",
       "      <td>https://law.stackexchange.com/questions/67110/...</td>\n",
       "      <td>Can Hawaii secede from the U.S. through legal ...</td>\n",
       "      <td>&lt;p&gt;Can Hawaii secede from the U.S. through leg...</td>\n",
       "      <td>[{'answer_id': 67111, 'score': 9, 'body': '&lt;p&gt;...</td>\n",
       "    </tr>\n",
       "    <tr>\n",
       "      <th>4</th>\n",
       "      <td>94678</td>\n",
       "      <td>[united-kingdom, property, any-jurisdiction, l...</td>\n",
       "      <td>1</td>\n",
       "      <td>CC BY-SA 4.0</td>\n",
       "      <td>https://law.stackexchange.com/questions/94678/...</td>\n",
       "      <td>Legality of privately bibby Stockholming to sa...</td>\n",
       "      <td>&lt;p&gt;It seems that the principal impetus of movi...</td>\n",
       "      <td>[{'answer_id': 94712, 'score': 1, 'body': '&lt;p&gt;...</td>\n",
       "    </tr>\n",
       "  </tbody>\n",
       "</table>\n",
       "</div>"
      ],
      "text/plain": [
       "   question_id                                               tags  score  \\\n",
       "0        94665                [criminal-law, driving, sentencing]     23   \n",
       "1        94671         [contract-law, legal-terms, consideration]      0   \n",
       "2        94683                 [employment, california, teenager]      1   \n",
       "3        67110    [united-states, constitutional-law, federalism]      2   \n",
       "4        94678  [united-kingdom, property, any-jurisdiction, l...      1   \n",
       "\n",
       "        license                                               link  \\\n",
       "0  CC BY-SA 4.0  https://law.stackexchange.com/questions/94665/...   \n",
       "1  CC BY-SA 4.0  https://law.stackexchange.com/questions/94671/...   \n",
       "2  CC BY-SA 4.0  https://law.stackexchange.com/questions/94683/...   \n",
       "3  CC BY-SA 4.0  https://law.stackexchange.com/questions/67110/...   \n",
       "4  CC BY-SA 4.0  https://law.stackexchange.com/questions/94678/...   \n",
       "\n",
       "                                      question_title  \\\n",
       "0  Why is drunk driving causing accident punished...   \n",
       "1      What counts as consideration in contract law?   \n",
       "2  Question Concerning Responding to Employer of ...   \n",
       "3  Can Hawaii secede from the U.S. through legal ...   \n",
       "4  Legality of privately bibby Stockholming to sa...   \n",
       "\n",
       "                                       question_body  \\\n",
       "0  <p>When people drink and drive and then cause ...   \n",
       "1  <p>What counts as consideration in contract la...   \n",
       "2  <p>My high school daughter worked for about a ...   \n",
       "3  <p>Can Hawaii secede from the U.S. through leg...   \n",
       "4  <p>It seems that the principal impetus of movi...   \n",
       "\n",
       "                                             answers  \n",
       "0  [{'answer_id': 94666, 'score': 72, 'body': '<h...  \n",
       "1  [{'answer_id': 94672, 'score': 1, 'body': '<p>...  \n",
       "2  [{'answer_id': 94687, 'score': 3, 'body': '<h2...  \n",
       "3  [{'answer_id': 67111, 'score': 9, 'body': '<p>...  \n",
       "4  [{'answer_id': 94712, 'score': 1, 'body': '<p>...  "
      ]
     },
     "execution_count": 25,
     "metadata": {},
     "output_type": "execute_result"
    }
   ],
   "source": [
    "# Load the JSON file into a DataFrame\n",
    "file_path = 'data/law-stackexchange-questions-answers.json'  # Upload the dataset to the data/ folder in advance\n",
    "train_dataset_df = pd.read_json(file_path, orient='records')\n",
    "train_dataset_df.head()"
   ]
  },
  {
   "cell_type": "code",
   "execution_count": 27,
   "metadata": {},
   "outputs": [
    {
     "data": {
      "text/html": [
       "<div>\n",
       "<style scoped>\n",
       "    .dataframe tbody tr th:only-of-type {\n",
       "        vertical-align: middle;\n",
       "    }\n",
       "\n",
       "    .dataframe tbody tr th {\n",
       "        vertical-align: top;\n",
       "    }\n",
       "\n",
       "    .dataframe thead th {\n",
       "        text-align: right;\n",
       "    }\n",
       "</style>\n",
       "<table border=\"1\" class=\"dataframe\">\n",
       "  <thead>\n",
       "    <tr style=\"text-align: right;\">\n",
       "      <th></th>\n",
       "      <th>question_id</th>\n",
       "      <th>tags</th>\n",
       "      <th>score</th>\n",
       "      <th>license</th>\n",
       "      <th>link</th>\n",
       "      <th>question_title</th>\n",
       "      <th>question_body</th>\n",
       "      <th>answers</th>\n",
       "      <th>quest_len</th>\n",
       "      <th>tag_n</th>\n",
       "    </tr>\n",
       "  </thead>\n",
       "  <tbody>\n",
       "    <tr>\n",
       "      <th>0</th>\n",
       "      <td>94665</td>\n",
       "      <td>[criminal-law, driving, sentencing]</td>\n",
       "      <td>23</td>\n",
       "      <td>CC BY-SA 4.0</td>\n",
       "      <td>https://law.stackexchange.com/questions/94665/...</td>\n",
       "      <td>Why is drunk driving causing accident punished...</td>\n",
       "      <td>&lt;p&gt;When people drink and drive and then cause ...</td>\n",
       "      <td>[{'answer_id': 94666, 'score': 72, 'body': '&lt;h...</td>\n",
       "      <td>356</td>\n",
       "      <td>3</td>\n",
       "    </tr>\n",
       "    <tr>\n",
       "      <th>1</th>\n",
       "      <td>94671</td>\n",
       "      <td>[contract-law, legal-terms, consideration]</td>\n",
       "      <td>0</td>\n",
       "      <td>CC BY-SA 4.0</td>\n",
       "      <td>https://law.stackexchange.com/questions/94671/...</td>\n",
       "      <td>What counts as consideration in contract law?</td>\n",
       "      <td>&lt;p&gt;What counts as consideration in contract la...</td>\n",
       "      <td>[{'answer_id': 94672, 'score': 1, 'body': '&lt;p&gt;...</td>\n",
       "      <td>127</td>\n",
       "      <td>3</td>\n",
       "    </tr>\n",
       "    <tr>\n",
       "      <th>2</th>\n",
       "      <td>94683</td>\n",
       "      <td>[employment, california, teenager]</td>\n",
       "      <td>1</td>\n",
       "      <td>CC BY-SA 4.0</td>\n",
       "      <td>https://law.stackexchange.com/questions/94683/...</td>\n",
       "      <td>Question Concerning Responding to Employer of ...</td>\n",
       "      <td>&lt;p&gt;My high school daughter worked for about a ...</td>\n",
       "      <td>[{'answer_id': 94687, 'score': 3, 'body': '&lt;h2...</td>\n",
       "      <td>1914</td>\n",
       "      <td>3</td>\n",
       "    </tr>\n",
       "    <tr>\n",
       "      <th>3</th>\n",
       "      <td>67110</td>\n",
       "      <td>[united-states, constitutional-law, federalism]</td>\n",
       "      <td>2</td>\n",
       "      <td>CC BY-SA 4.0</td>\n",
       "      <td>https://law.stackexchange.com/questions/67110/...</td>\n",
       "      <td>Can Hawaii secede from the U.S. through legal ...</td>\n",
       "      <td>&lt;p&gt;Can Hawaii secede from the U.S. through leg...</td>\n",
       "      <td>[{'answer_id': 67111, 'score': 9, 'body': '&lt;p&gt;...</td>\n",
       "      <td>274</td>\n",
       "      <td>3</td>\n",
       "    </tr>\n",
       "    <tr>\n",
       "      <th>4</th>\n",
       "      <td>94678</td>\n",
       "      <td>[united-kingdom, property, any-jurisdiction, l...</td>\n",
       "      <td>1</td>\n",
       "      <td>CC BY-SA 4.0</td>\n",
       "      <td>https://law.stackexchange.com/questions/94678/...</td>\n",
       "      <td>Legality of privately bibby Stockholming to sa...</td>\n",
       "      <td>&lt;p&gt;It seems that the principal impetus of movi...</td>\n",
       "      <td>[{'answer_id': 94712, 'score': 1, 'body': '&lt;p&gt;...</td>\n",
       "      <td>620</td>\n",
       "      <td>5</td>\n",
       "    </tr>\n",
       "  </tbody>\n",
       "</table>\n",
       "</div>"
      ],
      "text/plain": [
       "   question_id                                               tags  score  \\\n",
       "0        94665                [criminal-law, driving, sentencing]     23   \n",
       "1        94671         [contract-law, legal-terms, consideration]      0   \n",
       "2        94683                 [employment, california, teenager]      1   \n",
       "3        67110    [united-states, constitutional-law, federalism]      2   \n",
       "4        94678  [united-kingdom, property, any-jurisdiction, l...      1   \n",
       "\n",
       "        license                                               link  \\\n",
       "0  CC BY-SA 4.0  https://law.stackexchange.com/questions/94665/...   \n",
       "1  CC BY-SA 4.0  https://law.stackexchange.com/questions/94671/...   \n",
       "2  CC BY-SA 4.0  https://law.stackexchange.com/questions/94683/...   \n",
       "3  CC BY-SA 4.0  https://law.stackexchange.com/questions/67110/...   \n",
       "4  CC BY-SA 4.0  https://law.stackexchange.com/questions/94678/...   \n",
       "\n",
       "                                      question_title  \\\n",
       "0  Why is drunk driving causing accident punished...   \n",
       "1      What counts as consideration in contract law?   \n",
       "2  Question Concerning Responding to Employer of ...   \n",
       "3  Can Hawaii secede from the U.S. through legal ...   \n",
       "4  Legality of privately bibby Stockholming to sa...   \n",
       "\n",
       "                                       question_body  \\\n",
       "0  <p>When people drink and drive and then cause ...   \n",
       "1  <p>What counts as consideration in contract la...   \n",
       "2  <p>My high school daughter worked for about a ...   \n",
       "3  <p>Can Hawaii secede from the U.S. through leg...   \n",
       "4  <p>It seems that the principal impetus of movi...   \n",
       "\n",
       "                                             answers  quest_len  tag_n  \n",
       "0  [{'answer_id': 94666, 'score': 72, 'body': '<h...        356      3  \n",
       "1  [{'answer_id': 94672, 'score': 1, 'body': '<p>...        127      3  \n",
       "2  [{'answer_id': 94687, 'score': 3, 'body': '<h2...       1914      3  \n",
       "3  [{'answer_id': 67111, 'score': 9, 'body': '<p>...        274      3  \n",
       "4  [{'answer_id': 94712, 'score': 1, 'body': '<p>...        620      5  "
      ]
     },
     "execution_count": 27,
     "metadata": {},
     "output_type": "execute_result"
    }
   ],
   "source": [
    "train_dataset_df['quest_len'] = [len(x) for x in train_dataset_df['question_body']]\n",
    "train_dataset_df['tag_n'] = train_dataset_df['tags'].apply(lambda x: len(x) )\n",
    "train_dataset_df.head()"
   ]
  },
  {
   "cell_type": "code",
   "execution_count": 28,
   "metadata": {},
   "outputs": [
    {
     "data": {
      "text/html": [
       "<div>\n",
       "<style scoped>\n",
       "    .dataframe tbody tr th:only-of-type {\n",
       "        vertical-align: middle;\n",
       "    }\n",
       "\n",
       "    .dataframe tbody tr th {\n",
       "        vertical-align: top;\n",
       "    }\n",
       "\n",
       "    .dataframe thead th {\n",
       "        text-align: right;\n",
       "    }\n",
       "</style>\n",
       "<table border=\"1\" class=\"dataframe\">\n",
       "  <thead>\n",
       "    <tr style=\"text-align: right;\">\n",
       "      <th></th>\n",
       "      <th>question_id</th>\n",
       "      <th>tags</th>\n",
       "      <th>score</th>\n",
       "      <th>license</th>\n",
       "      <th>link</th>\n",
       "      <th>question_title</th>\n",
       "      <th>question_body</th>\n",
       "      <th>answers</th>\n",
       "      <th>quest_len</th>\n",
       "      <th>tag_n</th>\n",
       "    </tr>\n",
       "  </thead>\n",
       "  <tbody>\n",
       "    <tr>\n",
       "      <th>0</th>\n",
       "      <td>94665</td>\n",
       "      <td>[criminal-law, driving, sentencing]</td>\n",
       "      <td>23</td>\n",
       "      <td>CC BY-SA 4.0</td>\n",
       "      <td>https://law.stackexchange.com/questions/94665/...</td>\n",
       "      <td>Why is drunk driving causing accident punished...</td>\n",
       "      <td>&lt;p&gt;When people drink and drive and then cause ...</td>\n",
       "      <td>[{'answer_id': 94666, 'score': 72, 'body': '&lt;h...</td>\n",
       "      <td>356</td>\n",
       "      <td>3</td>\n",
       "    </tr>\n",
       "    <tr>\n",
       "      <th>1</th>\n",
       "      <td>94671</td>\n",
       "      <td>[contract-law, legal-terms, consideration]</td>\n",
       "      <td>0</td>\n",
       "      <td>CC BY-SA 4.0</td>\n",
       "      <td>https://law.stackexchange.com/questions/94671/...</td>\n",
       "      <td>What counts as consideration in contract law?</td>\n",
       "      <td>&lt;p&gt;What counts as consideration in contract la...</td>\n",
       "      <td>[{'answer_id': 94672, 'score': 1, 'body': '&lt;p&gt;...</td>\n",
       "      <td>127</td>\n",
       "      <td>3</td>\n",
       "    </tr>\n",
       "    <tr>\n",
       "      <th>3</th>\n",
       "      <td>67110</td>\n",
       "      <td>[united-states, constitutional-law, federalism]</td>\n",
       "      <td>2</td>\n",
       "      <td>CC BY-SA 4.0</td>\n",
       "      <td>https://law.stackexchange.com/questions/67110/...</td>\n",
       "      <td>Can Hawaii secede from the U.S. through legal ...</td>\n",
       "      <td>&lt;p&gt;Can Hawaii secede from the U.S. through leg...</td>\n",
       "      <td>[{'answer_id': 67111, 'score': 9, 'body': '&lt;p&gt;...</td>\n",
       "      <td>274</td>\n",
       "      <td>3</td>\n",
       "    </tr>\n",
       "    <tr>\n",
       "      <th>4</th>\n",
       "      <td>94678</td>\n",
       "      <td>[united-kingdom, property, any-jurisdiction, l...</td>\n",
       "      <td>1</td>\n",
       "      <td>CC BY-SA 4.0</td>\n",
       "      <td>https://law.stackexchange.com/questions/94678/...</td>\n",
       "      <td>Legality of privately bibby Stockholming to sa...</td>\n",
       "      <td>&lt;p&gt;It seems that the principal impetus of movi...</td>\n",
       "      <td>[{'answer_id': 94712, 'score': 1, 'body': '&lt;p&gt;...</td>\n",
       "      <td>620</td>\n",
       "      <td>5</td>\n",
       "    </tr>\n",
       "    <tr>\n",
       "      <th>6</th>\n",
       "      <td>30604</td>\n",
       "      <td>[united-states, corporate-law, minor, incorpor...</td>\n",
       "      <td>1</td>\n",
       "      <td>CC BY-SA 4.0</td>\n",
       "      <td>https://law.stackexchange.com/questions/30604/...</td>\n",
       "      <td>What role does the person who signs post incor...</td>\n",
       "      <td>&lt;p&gt;I am a minor and my mother would be signing...</td>\n",
       "      <td>[{'answer_id': 30616, 'score': 2, 'body': '&lt;p&gt;...</td>\n",
       "      <td>340</td>\n",
       "      <td>4</td>\n",
       "    </tr>\n",
       "    <tr>\n",
       "      <th>...</th>\n",
       "      <td>...</td>\n",
       "      <td>...</td>\n",
       "      <td>...</td>\n",
       "      <td>...</td>\n",
       "      <td>...</td>\n",
       "      <td>...</td>\n",
       "      <td>...</td>\n",
       "      <td>...</td>\n",
       "      <td>...</td>\n",
       "      <td>...</td>\n",
       "    </tr>\n",
       "    <tr>\n",
       "      <th>24365</th>\n",
       "      <td>99</td>\n",
       "      <td>[indian-penal-code, india]</td>\n",
       "      <td>6</td>\n",
       "      <td>CC BY-SA 3.0</td>\n",
       "      <td>https://law.stackexchange.com/questions/99/rep...</td>\n",
       "      <td>Representing your own case</td>\n",
       "      <td>&lt;p&gt;Are there any prerequisites to represent on...</td>\n",
       "      <td>[{'answer_id': 122, 'score': 2, 'body': '&lt;p&gt;Le...</td>\n",
       "      <td>137</td>\n",
       "      <td>2</td>\n",
       "    </tr>\n",
       "    <tr>\n",
       "      <th>24366</th>\n",
       "      <td>74</td>\n",
       "      <td>[united-states, search-and-seizure, fourth-ame...</td>\n",
       "      <td>10</td>\n",
       "      <td>CC BY-SA 3.0</td>\n",
       "      <td>https://law.stackexchange.com/questions/74/wha...</td>\n",
       "      <td>What rights do foreigners have when the CBP wa...</td>\n",
       "      <td>&lt;p&gt;Since &lt;a href=\"https://www.aclu.org/governm...</td>\n",
       "      <td>[{'answer_id': 75, 'score': 5, 'body': '&lt;p&gt;For...</td>\n",
       "      <td>1189</td>\n",
       "      <td>3</td>\n",
       "    </tr>\n",
       "    <tr>\n",
       "      <th>24367</th>\n",
       "      <td>26</td>\n",
       "      <td>[united-kingdom, police]</td>\n",
       "      <td>25</td>\n",
       "      <td>CC BY-SA 3.0</td>\n",
       "      <td>https://law.stackexchange.com/questions/26/und...</td>\n",
       "      <td>Under what circumstances am I obliged to show ...</td>\n",
       "      <td>&lt;p&gt;In the UK, if a police constable stops you ...</td>\n",
       "      <td>[{'answer_id': 80, 'score': 16, 'body': '&lt;p&gt;Pe...</td>\n",
       "      <td>388</td>\n",
       "      <td>2</td>\n",
       "    </tr>\n",
       "    <tr>\n",
       "      <th>24368</th>\n",
       "      <td>13</td>\n",
       "      <td>[criminal-law, united-states]</td>\n",
       "      <td>9</td>\n",
       "      <td>CC BY-SA 3.0</td>\n",
       "      <td>https://law.stackexchange.com/questions/13/is-...</td>\n",
       "      <td>Is there any way to bring a criminal case befo...</td>\n",
       "      <td>&lt;p&gt;Is there any way to present a case to the g...</td>\n",
       "      <td>[{'answer_id': 33, 'score': 6, 'body': '&lt;p&gt;To ...</td>\n",
       "      <td>113</td>\n",
       "      <td>2</td>\n",
       "    </tr>\n",
       "    <tr>\n",
       "      <th>24369</th>\n",
       "      <td>15</td>\n",
       "      <td>[united-states, copyright]</td>\n",
       "      <td>6</td>\n",
       "      <td>CC BY-SA 3.0</td>\n",
       "      <td>https://law.stackexchange.com/questions/15/how...</td>\n",
       "      <td>How to prevent/protect my rights to content I ...</td>\n",
       "      <td>&lt;p&gt;I live in the US and do writing of my own i...</td>\n",
       "      <td>[{'answer_id': 18, 'score': 7, 'body': '&lt;p&gt;Int...</td>\n",
       "      <td>406</td>\n",
       "      <td>2</td>\n",
       "    </tr>\n",
       "  </tbody>\n",
       "</table>\n",
       "<p>20940 rows × 10 columns</p>\n",
       "</div>"
      ],
      "text/plain": [
       "       question_id                                               tags  score  \\\n",
       "0            94665                [criminal-law, driving, sentencing]     23   \n",
       "1            94671         [contract-law, legal-terms, consideration]      0   \n",
       "3            67110    [united-states, constitutional-law, federalism]      2   \n",
       "4            94678  [united-kingdom, property, any-jurisdiction, l...      1   \n",
       "6            30604  [united-states, corporate-law, minor, incorpor...      1   \n",
       "...            ...                                                ...    ...   \n",
       "24365           99                         [indian-penal-code, india]      6   \n",
       "24366           74  [united-states, search-and-seizure, fourth-ame...     10   \n",
       "24367           26                           [united-kingdom, police]     25   \n",
       "24368           13                      [criminal-law, united-states]      9   \n",
       "24369           15                         [united-states, copyright]      6   \n",
       "\n",
       "            license                                               link  \\\n",
       "0      CC BY-SA 4.0  https://law.stackexchange.com/questions/94665/...   \n",
       "1      CC BY-SA 4.0  https://law.stackexchange.com/questions/94671/...   \n",
       "3      CC BY-SA 4.0  https://law.stackexchange.com/questions/67110/...   \n",
       "4      CC BY-SA 4.0  https://law.stackexchange.com/questions/94678/...   \n",
       "6      CC BY-SA 4.0  https://law.stackexchange.com/questions/30604/...   \n",
       "...             ...                                                ...   \n",
       "24365  CC BY-SA 3.0  https://law.stackexchange.com/questions/99/rep...   \n",
       "24366  CC BY-SA 3.0  https://law.stackexchange.com/questions/74/wha...   \n",
       "24367  CC BY-SA 3.0  https://law.stackexchange.com/questions/26/und...   \n",
       "24368  CC BY-SA 3.0  https://law.stackexchange.com/questions/13/is-...   \n",
       "24369  CC BY-SA 3.0  https://law.stackexchange.com/questions/15/how...   \n",
       "\n",
       "                                          question_title  \\\n",
       "0      Why is drunk driving causing accident punished...   \n",
       "1          What counts as consideration in contract law?   \n",
       "3      Can Hawaii secede from the U.S. through legal ...   \n",
       "4      Legality of privately bibby Stockholming to sa...   \n",
       "6      What role does the person who signs post incor...   \n",
       "...                                                  ...   \n",
       "24365                         Representing your own case   \n",
       "24366  What rights do foreigners have when the CBP wa...   \n",
       "24367  Under what circumstances am I obliged to show ...   \n",
       "24368  Is there any way to bring a criminal case befo...   \n",
       "24369  How to prevent/protect my rights to content I ...   \n",
       "\n",
       "                                           question_body  \\\n",
       "0      <p>When people drink and drive and then cause ...   \n",
       "1      <p>What counts as consideration in contract la...   \n",
       "3      <p>Can Hawaii secede from the U.S. through leg...   \n",
       "4      <p>It seems that the principal impetus of movi...   \n",
       "6      <p>I am a minor and my mother would be signing...   \n",
       "...                                                  ...   \n",
       "24365  <p>Are there any prerequisites to represent on...   \n",
       "24366  <p>Since <a href=\"https://www.aclu.org/governm...   \n",
       "24367  <p>In the UK, if a police constable stops you ...   \n",
       "24368  <p>Is there any way to present a case to the g...   \n",
       "24369  <p>I live in the US and do writing of my own i...   \n",
       "\n",
       "                                                 answers  quest_len  tag_n  \n",
       "0      [{'answer_id': 94666, 'score': 72, 'body': '<h...        356      3  \n",
       "1      [{'answer_id': 94672, 'score': 1, 'body': '<p>...        127      3  \n",
       "3      [{'answer_id': 67111, 'score': 9, 'body': '<p>...        274      3  \n",
       "4      [{'answer_id': 94712, 'score': 1, 'body': '<p>...        620      5  \n",
       "6      [{'answer_id': 30616, 'score': 2, 'body': '<p>...        340      4  \n",
       "...                                                  ...        ...    ...  \n",
       "24365  [{'answer_id': 122, 'score': 2, 'body': '<p>Le...        137      2  \n",
       "24366  [{'answer_id': 75, 'score': 5, 'body': '<p>For...       1189      3  \n",
       "24367  [{'answer_id': 80, 'score': 16, 'body': '<p>Pe...        388      2  \n",
       "24368  [{'answer_id': 33, 'score': 6, 'body': '<p>To ...        113      2  \n",
       "24369  [{'answer_id': 18, 'score': 7, 'body': '<p>Int...        406      2  \n",
       "\n",
       "[20940 rows x 10 columns]"
      ]
     },
     "execution_count": 28,
     "metadata": {},
     "output_type": "execute_result"
    }
   ],
   "source": [
    "train_dataset_df = train_dataset_df[train_dataset_df['quest_len'] < 1600]\n",
    "train_dataset_df"
   ]
  },
  {
   "cell_type": "markdown",
   "metadata": {},
   "source": [
    "## Now let's see if there is a relationship between the length of the question and the number of the tags"
   ]
  },
  {
   "cell_type": "code",
   "execution_count": 18,
   "metadata": {},
   "outputs": [
    {
     "data": {
      "text/plain": [
       "array([ 786.54744029,  785.48739901,  822.35071599,  864.43194123,\n",
       "       1024.36575414])"
      ]
     },
     "execution_count": 18,
     "metadata": {},
     "output_type": "execute_result"
    }
   ],
   "source": [
    "stdev_quest_len_tags"
   ]
  },
  {
   "cell_type": "code",
   "execution_count": 32,
   "metadata": {},
   "outputs": [
    {
     "data": {
      "text/plain": [
       "[<matplotlib.lines.Line2D at 0x14c05d38190>]"
      ]
     },
     "execution_count": 32,
     "metadata": {},
     "output_type": "execute_result"
    },
    {
     "data": {
      "image/png": "[encoded data removed]",
      "text/plain": [
       "<Figure size 640x480 with 1 Axes>"
      ]
     },
     "metadata": {},
     "output_type": "display_data"
    }
   ],
   "source": [
    "# Get the mean values of the number of tags\n",
    "mean_quest_len_tags =  np.array([np.mean(train_dataset_df[train_dataset_df['tag_n'] == tn][\"quest_len\"]) for tn in np.arange(1,6)])\n",
    "median_quest_len_tags = np.array([np.median(train_dataset_df[train_dataset_df['tag_n'] == tn][\"quest_len\"]) for tn in np.arange(1,6)])\n",
    "stdev_quest_len_tags =  np.array([sem(train_dataset_df[train_dataset_df['tag_n'] == tn][\"quest_len\"]) for tn in np.arange(1,6)])\n",
    "# Plotting\n",
    "fig, ax = plt.subplots()\n",
    "ax.plot(mean_quest_len_tags)\n",
    "# shade standard deviation around the mean\n",
    "ax.fill_between(np.arange(5), mean_quest_len_tags - stdev_quest_len_tags, mean_quest_len_tags + stdev_quest_len_tags, color='b', alpha=0.2)\n",
    "ax.plot(median_quest_len_tags)\n"
   ]
  },
  {
   "cell_type": "markdown",
   "metadata": {},
   "source": [
    "Indeed, there is a very striking relationship between them, now let's find a linear function for this:"
   ]
  },
  {
   "cell_type": "code",
   "execution_count": null,
   "metadata": {},
   "outputs": [],
   "source": [
    "slope_tag, intercept = np.polyfit(np.arange(1,6), median_quest_len_tags, 1)\n",
    "x_value = (y_value - intercept) / slope"
   ]
  },
  {
   "cell_type": "code",
   "execution_count": null,
   "metadata": {},
   "outputs": [],
   "source": [
    "! pip install ipywidgets"
   ]
  },
  {
   "cell_type": "markdown",
   "metadata": {},
   "source": [
    "---\n",
    "## Getting Started"
   ]
  },
  {
   "cell_type": "markdown",
   "metadata": {},
   "source": [
    "To get started, let's setup some environment variables, as well as path variables that will be used for storing the curated data, as well as intermediate temporary files that are required for this notebooks to function."
   ]
  },
  {
   "cell_type": "code",
   "execution_count": null,
   "metadata": {},
   "outputs": [],
   "source": [
    "import os\n",
    "os.environ[\"DASK_DATAFRAME__QUERY_PLANNING\"] = \"False\"  # Needed for running Curator on the GPU\n",
    "\n",
    "NOTEBOOK_DIR = os.path.abspath(\"\")\n",
    "DATA_DIR = os.path.join(NOTEBOOK_DIR, \"data\")\n",
    "TEMP_DIR = os.path.join(NOTEBOOK_DIR, \".temp\")\n",
    "os.makedirs(DATA_DIR, exist_ok=True)"
   ]
  },
  {
   "cell_type": "markdown",
   "metadata": {},
   "source": [
    "Let's now import everything we need to build our data curation pipeline. For your conveniene, we've provided the document builder implementations that allow you to download the dataset from HuggingFace and convert it into a Pandas `DataFrame`.\n",
    "\n",
    "We have additionally implemented a score-based filter that allows you to filter the dataset rows using the score values assigned to each question. You can use this implementation as the basis for creating your own filtering/scoring mechanisms using NeMo Curator."
   ]
  },
  {
   "cell_type": "code",
   "execution_count": null,
   "metadata": {},
   "outputs": [],
   "source": [
    "from nemo_curator.utils.distributed_utils import get_client\n",
    "from nemo_curator.datasets import DocumentDataset\n",
    "from nemo_curator.filters import WordCountFilter\n",
    "from nemo_curator.modifiers import UnicodeReformatter\n",
    "from nemo_curator.utils.file_utils import expand_outdir_and_mkdir\n",
    "from nemo_curator import ScoreFilter, Sequential\n",
    "from nemo_curator.modules.modify import Modify\n",
    "\n",
    "# Importing helper functions\n",
    "from helpers.filters import FilterLowScores\n",
    "from helpers.docbuilder import download_and_convert_dataset"
   ]
  },
  {
   "cell_type": "markdown",
   "metadata": {},
   "source": [
    "Before proceeding, let's decide the compute resources we'd like to use for running our data curation pipeline. NeMo Curator uses Dask to orchestrate scalable data processing. As such, it needs to know what resources to use. \n",
    "\n",
    "For the purposes of this notebook, we will instruct NeMo Curator to use 8 CPU workers. While most NeMo Curator functionalities can be executed on the CPU, some modules (such as semantic deduplication) can only be executed on the GPU. Please make sure to select the appropriate device.\n",
    "\n",
    "Note that you can increase or decrease the number of CPU workers depending on the runtime environment. Keep in mind that each CPU worker gets allocated a fixed amount of the total available system memory (RAM). Thus, if the environment does not have enough memory available, Dask operations might fail.\n",
    "\n",
    "Once we have decided on the resources to use, we can initialize our Dask cluster and start using NeMo Curator."
   ]
  },
  {
   "cell_type": "code",
   "execution_count": null,
   "metadata": {},
   "outputs": [],
   "source": [
    "device = \"cpu\"  # It can be either \"cpu\" or \"gpu\"\n",
    "n_workers = 4  # Number of workers to use for Dask. If running out of memory, try reducing this.\n",
    "client = get_client(device, n_workers=n_workers, set_torch_to_use_rmm=False)"
   ]
  },
  {
   "cell_type": "markdown",
   "metadata": {},
   "source": [
    "---\n",
    "## The Main Data Curation and Processing Pipeline\n",
    "\n",
    "We start by downloading and converting the dataset into a suitable format. This is done via the document builders that we have provided for you."
   ]
  },
  {
   "cell_type": "code",
   "execution_count": null,
   "metadata": {},
   "outputs": [],
   "source": [
    "dataset_df = download_and_convert_dataset(DATA_DIR)\n",
    "raw_dataset = DocumentDataset.from_pandas(dataset_df)"
   ]
  },
  {
   "cell_type": "markdown",
   "metadata": {},
   "source": [
    "Next, we need to define our data curation pipeline. The pipeline we define here is very simple, as it contains basic filtering operations\n",
    "\n",
    "> NOTE: to use the modules that need a GPU, the dataset has to be converted to the `cudf` backend. Please refer to [this tutorial](https://github.com/NVIDIA/NeMo-Curator/tree/main/tutorials/peft-curation-with-sdg) for an example demonstrating the usage of GPU modules."
   ]
  },
  {
   "cell_type": "code",
   "execution_count": null,
   "metadata": {},
   "outputs": [],
   "source": [
    "def run_curation_pipeline(dataset: DocumentDataset, device: str) -> DocumentDataset:\n",
    "    print(f\"Running curation pipeline on '{device}'...\")\n",
    "    orig_dataset = dataset\n",
    "\n",
    "    cpu_curation_steps = Sequential(\n",
    "        [\n",
    "            #\n",
    "            # Modifications\n",
    "            #\n",
    "            # Unify the text encoding to Unicode.\n",
    "            Modify(UnicodeReformatter(), text_field=\"title\"),\n",
    "            Modify(UnicodeReformatter(), text_field=\"question\"),\n",
    "            #\n",
    "            # Filtering\n",
    "            #\n",
    "            # Filter out records based on the question word counts.\n",
    "            ScoreFilter(\n",
    "                WordCountFilter(min_words=40, max_words=250),\n",
    "                text_field=\"question\",\n",
    "                score_type=int,\n",
    "            ),\n",
    "            # Filter out records where the question has a negative score.\n",
    "            ScoreFilter(\n",
    "                FilterLowScores(score_threshold=1),\n",
    "                text_field=\"question_score\",\n",
    "                score_type=bool,\n",
    "            ),\n",
    "        ]\n",
    "    )\n",
    "\n",
    "    # Run the CPU curation steps.\n",
    "    dataset = cpu_curation_steps(dataset)\n",
    "    dataset = dataset.persist()\n",
    "    # Drop the columns that are no longer needed.\n",
    "    dataset.df = dataset.df.drop(columns=[\"answer\", \"answer_score\"])\n",
    "    orig_len = len(orig_dataset.df)\n",
    "    new_len = len(dataset.df)\n",
    "\n",
    "    print(f\"Original dataset length: {orig_len}\")\n",
    "    print(f\"New dataset length: {new_len}\")\n",
    "\n",
    "    return dataset"
   ]
  },
  {
   "cell_type": "markdown",
   "metadata": {},
   "source": [
    "Finally, we are ready to run the pipeline and get our final dataset. This may take up to 10 minutes to execute, especially if any GPU functionalities are used."
   ]
  },
  {
   "cell_type": "code",
   "execution_count": null,
   "metadata": {},
   "outputs": [],
   "source": [
    "curated_dataset = run_curation_pipeline(raw_dataset, device)"
   ]
  },
  {
   "cell_type": "code",
   "execution_count": null,
   "metadata": {},
   "outputs": [],
   "source": []
  },
  {
   "cell_type": "markdown",
   "metadata": {},
   "source": [
    "Next, let's specify the final columns that we would like our dataset to have. Depending on how you plan on consuming this dataset for training, you may decide to introduce other arbitrary columns to help the model learn better.\n",
    "\n",
    "Also, this is a great place to add system or instruction prompts to every record, in case you intend to use the same instruction prompt for every record.\n",
    "\n",
    "Let's define a function that formats the dataset, and also adds system prompts."
   ]
  },
  {
   "cell_type": "code",
   "execution_count": null,
   "metadata": {},
   "outputs": [],
   "source": [
    "def format_dataset(dataset: DocumentDataset, filename: str) -> DocumentDataset:\n",
    "    SYSTEM_PROMPT = \"Assign approximately tags to this legal issue. All tags must be in lowercase, this-format, ordered lexicographically and separated by commas.\\n\\n\"\n",
    "\n",
    "    df = dataset.df.compute()\n",
    "    has_tags = \"tags\" in df.columns\n",
    "    df[\"input\"] = SYSTEM_PROMPT + \"TITLE:\\n\" + df[\"title\"] + \"\\n\\n\" + \"QUESTION:\\n\" + df[\"question\"]\n",
    "    df[\"output\"] = df[\"tags\"] if has_tags else \"\"  # If the dataset doesn't have tags, use an empty string.\n",
    "    df[\"filename\"] = filename\n",
    "\n",
    "    df = df.drop(columns=[\"title\", \"question\"])\n",
    "    if has_tags:\n",
    "        df = df.drop(columns=[\"tags\"]) # Drop the tags column if it exists.\n",
    "    return DocumentDataset.from_pandas(df)"
   ]
  },
  {
   "cell_type": "markdown",
   "metadata": {},
   "source": [
    "We use the function above to format the dataset. We apply the same logic to the final evaluation dataset."
   ]
  },
  {
   "cell_type": "code",
   "execution_count": null,
   "metadata": {},
   "outputs": [],
   "source": [
    "formatted_dataset = format_dataset(curated_dataset, \"law-stackexchange-curated.jsonl\")\n",
    "print(f\"Original dataset columns: {curated_dataset.df.columns}\")\n",
    "print(f\"Formatted dataset columns: {formatted_dataset.df.columns}\")"
   ]
  },
  {
   "cell_type": "markdown",
   "metadata": {},
   "source": [
    "Once the final dataset is ready, we can write it into a JSONL file that is in the format expected for training with NeMo Framework.\n",
    "\n",
    "> NOTE: The curated dataset will be written under `curator/data/curated_dataset/law-stackexchange-curated.jsonl`"
   ]
  },
  {
   "cell_type": "code",
   "execution_count": null,
   "metadata": {},
   "outputs": [],
   "source": [
    "print(f\"Curated dataset columns: {formatted_dataset.df.columns}\")\n",
    "result_fp = os.path.join(DATA_DIR, \"curated_dataset\")\n",
    "print()\n",
    "print(f\"Saving curated dataset to '{result_fp}'...\")\n",
    "formatted_dataset.to_json(result_fp, write_to_filename=True)"
   ]
  },
  {
   "cell_type": "markdown",
   "metadata": {},
   "source": [
    "---\n",
    "# Spliting the Dataset\n",
    "\n",
    "Before starting the model training procedure, let's split the dataset we've just curated into `training`, `validation` and `test` splits with 80/10/10 ratios."
   ]
  },
  {
   "cell_type": "code",
   "execution_count": null,
   "metadata": {},
   "outputs": [],
   "source": [
    "from sklearn.model_selection import train_test_split\n",
    "\n",
    "VAL_RATIO = 0.05\n",
    "\n",
    "df = formatted_dataset.df.compute()\n",
    "\n",
    "# Some sanity checks\n",
    "assert len(df) > 0, \"The dataset is empty.\"\n",
    "assert VAL_RATIO >= 0 and VAL_RATIO <= 1, \"VAL_RATIO must be between 0 and 1.\"\n",
    "val_size = int(len(df) * VAL_RATIO)\n",
    "output_dir = f\"{DATA_DIR}/split\"\n",
    "os.makedirs(output_dir, exist_ok=True)\n",
    "\n",
    "# Split the data into training and temporary sets\n",
    "train_df, val_df = train_test_split(df, test_size=val_size, random_state=42)\n",
    "\n",
    "print(f\"Original size: {len(df)}\")\n",
    "print(\"After splitting:\")\n",
    "print(f\"    Train size: {len(train_df)}\")\n",
    "print(f\"    Validation size: {len(val_df)}\")\n",
    "\n",
    "train_df[\"filename\"] = \"train.jsonl\"\n",
    "val_df[\"filename\"] = \"val.jsonl\"\n",
    "\n",
    "DocumentDataset.from_pandas(train_df).to_json(output_dir, write_to_filename=True)\n",
    "DocumentDataset.from_pandas(val_df).to_json(output_dir, write_to_filename=True)\n"
   ]
  },
  {
   "cell_type": "markdown",
   "metadata": {},
   "source": [
    "---\n",
    "# Preparing the Submission Dataset\n",
    "\n",
    "The submission dataset is dataset of questions and titles, where every participating team would have to predict the tags for.\n",
    "It needs to have a format similar to training datasets so that you can evaluate your model on it, and submit your predicted tags."
   ]
  },
  {
   "cell_type": "code",
   "execution_count": null,
   "metadata": {},
   "outputs": [],
   "source": [
    "submission_ds = \"data/submission/evaluation-dataset-verified-for-participants.jsonl\"\n",
    "assert os.path.exists(submission_ds), f\"The submission dataset does not exist at '{submission_ds}'\"\n",
    "submission_ds = DocumentDataset.read_json(submission_ds)\n",
    "submission_ds = format_dataset(submission_ds, \"submission.jsonl\")\n",
    "print(\"Writing the formatted submission dataset to disk...\")\n",
    "submission_ds.to_json(output_dir, write_to_filename=True)"
   ]
  },
  {
   "cell_type": "markdown",
   "metadata": {},
   "source": [
    "Once you have run the above cell, your data that is suitable for training will be written under `data/split`. When making submissions, run inference with your model on `data/split/submission.jsonl`."
   ]
  },
  {
   "cell_type": "markdown",
   "metadata": {},
   "source": [
    "---\n",
    "# Freeing Memory and Other Resources\n",
    "\n",
    "Before moving to the next notebook, please execute the following cell to free up all the allocated resources to avoid running into out-of-memory or other issues.\n",
    "\n",
    "Alternatively, please restart the kernel by navigating to `Kernel > Restart Kernel` (if using Jypyter notebook), or clicking the `Restart` button in VS Code."
   ]
  },
  {
   "cell_type": "code",
   "execution_count": null,
   "metadata": {},
   "outputs": [],
   "source": [
    "client.close()\n",
    "exit(0)"
   ]
  }
 ],
 "metadata": {
  "kernelspec": {
   "display_name": "Python 3 (ipykernel)",
   "language": "python",
   "name": "python3"
  },
  "language_info": {
   "codemirror_mode": {
    "name": "ipython",
    "version": 3
   },
   "file_extension": ".py",
   "mimetype": "text/x-python",
   "name": "python",
   "nbconvert_exporter": "python",
   "pygments_lexer": "ipython3",
   "version": "3.10.8"
  }
 },
 "nbformat": 4,
 "nbformat_minor": 4
}
