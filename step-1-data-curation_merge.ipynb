{
 "cells": [
  {
   "cell_type": "markdown",
   "metadata": {},
   "source": [
    "# Data Curation\n",
    "This notebook showcases the building blocks that can be used for building a simple data curation pipeline using [NeMo Curator](https://github.com/NVIDIA/NeMo-Curator).\n",
    "\n",
    "## Reading Materials\n",
    "Before proceeding, we highly recommend looking through the following deep dive blog posts that walk you through building data curation pipelines using NeMo Curator:\n",
    "- [Curating Custom Datasets for LLM Training with NVIDIA NeMo Curator](https://developer.nvidia.com/blog/curating-custom-datasets-for-llm-training-with-nvidia-nemo-curator/)\n",
    "- [Curating Custom Datasets for LLM Parameter-Efficient Fine-Tuning with NVIDIA NeMo Curator](https://developer.nvidia.com/blog/curating-custom-datasets-for-llm-parameter-efficient-fine-tuning-with-nvidia-nemo-curator/)\n",
    "\n",
    "Also, please checkout [our tutorials](https://github.com/NVIDIA/NeMo-Curator/tree/main/tutorials) in the repository to learn more about various functionalities that NeMo Curator provides.\n",
    "\n",
    "In this notebook, we will use the [Law-StackExchange dataset](https://huggingface.co/datasets/ymoslem/Law-StackExchange) for this pipeline, which is a dataset of legal question/answers scraped from the Stack Exchange website. This notebook is the summarized version of our existing [synthetic data generation tutorial](https://github.com/NVIDIA/NeMo-Curator/tree/main/tutorials/peft-curation-with-sdg). Feel free to go through that tutorial to gain a better understanding of various NeMo Curator facilities.\n",
    "\n",
    "## Setup and Requirements\n",
    "The NeMo dependencies are already installed in the container. However, before proceeding you need to install one dependency to follow along. Execute the following cell before getting started."
   ]
  },
  {
   "cell_type": "code",
   "execution_count": 1,
   "metadata": {
    "tags": []
   },
   "outputs": [
    {
     "name": "stdout",
     "output_type": "stream",
     "text": [
      "Looking in indexes: https://pypi.org/simple, https://pypi.ngc.nvidia.com\n",
      "Collecting ipywidgets\n",
      "  Downloading ipywidgets-8.1.5-py3-none-any.whl.metadata (2.3 kB)\n",
      "Requirement already satisfied: comm>=0.1.3 in /usr/local/lib/python3.10/dist-packages (from ipywidgets) (0.2.2)\n",
      "Requirement already satisfied: ipython>=6.1.0 in /usr/local/lib/python3.10/dist-packages (from ipywidgets) (8.21.0)\n",
      "Requirement already satisfied: traitlets>=4.3.1 in /usr/local/lib/python3.10/dist-packages (from ipywidgets) (5.9.0)\n",
      "Collecting widgetsnbextension~=4.0.12 (from ipywidgets)\n",
      "  Downloading widgetsnbextension-4.0.13-py3-none-any.whl.metadata (1.6 kB)\n",
      "Collecting jupyterlab-widgets~=3.0.12 (from ipywidgets)\n",
      "  Downloading jupyterlab_widgets-3.0.13-py3-none-any.whl.metadata (4.1 kB)\n",
      "Requirement already satisfied: decorator in /usr/local/lib/python3.10/dist-packages (from ipython>=6.1.0->ipywidgets) (5.1.1)\n",
      "Requirement already satisfied: jedi>=0.16 in /usr/local/lib/python3.10/dist-packages (from ipython>=6.1.0->ipywidgets) (0.19.1)\n",
      "Requirement already satisfied: matplotlib-inline in /usr/local/lib/python3.10/dist-packages (from ipython>=6.1.0->ipywidgets) (0.1.7)\n",
      "Requirement already satisfied: prompt-toolkit<3.1.0,>=3.0.41 in /usr/local/lib/python3.10/dist-packages (from ipython>=6.1.0->ipywidgets) (3.0.47)\n",
      "Requirement already satisfied: pygments>=2.4.0 in /usr/local/lib/python3.10/dist-packages (from ipython>=6.1.0->ipywidgets) (2.18.0)\n",
      "Requirement already satisfied: stack-data in /usr/local/lib/python3.10/dist-packages (from ipython>=6.1.0->ipywidgets) (0.6.3)\n",
      "Requirement already satisfied: exceptiongroup in /usr/local/lib/python3.10/dist-packages (from ipython>=6.1.0->ipywidgets) (1.2.1)\n",
      "Requirement already satisfied: pexpect>4.3 in /usr/local/lib/python3.10/dist-packages (from ipython>=6.1.0->ipywidgets) (4.9.0)\n",
      "Requirement already satisfied: parso<0.9.0,>=0.8.3 in /usr/local/lib/python3.10/dist-packages (from jedi>=0.16->ipython>=6.1.0->ipywidgets) (0.8.4)\n",
      "Requirement already satisfied: ptyprocess>=0.5 in /usr/local/lib/python3.10/dist-packages (from pexpect>4.3->ipython>=6.1.0->ipywidgets) (0.7.0)\n",
      "Requirement already satisfied: wcwidth in /usr/local/lib/python3.10/dist-packages (from prompt-toolkit<3.1.0,>=3.0.41->ipython>=6.1.0->ipywidgets) (0.2.13)\n",
      "Requirement already satisfied: executing>=1.2.0 in /usr/local/lib/python3.10/dist-packages (from stack-data->ipython>=6.1.0->ipywidgets) (2.0.1)\n",
      "Requirement already satisfied: asttokens>=2.1.0 in /usr/local/lib/python3.10/dist-packages (from stack-data->ipython>=6.1.0->ipywidgets) (2.4.1)\n",
      "Requirement already satisfied: pure-eval in /usr/local/lib/python3.10/dist-packages (from stack-data->ipython>=6.1.0->ipywidgets) (0.2.2)\n",
      "Requirement already satisfied: six>=1.12.0 in /usr/local/lib/python3.10/dist-packages (from asttokens>=2.1.0->stack-data->ipython>=6.1.0->ipywidgets) (1.16.0)\n",
      "Downloading ipywidgets-8.1.5-py3-none-any.whl (139 kB)\n",
      "\u001b[2K   \u001b[90m━━━━━━━━━━━━━━━━━━━━━━━━━━━━━━━━━━━━━━━━\u001b[0m \u001b[32m139.8/139.8 kB\u001b[0m \u001b[31m5.1 MB/s\u001b[0m eta \u001b[36m0:00:00\u001b[0m\n",
      "\u001b[?25hDownloading jupyterlab_widgets-3.0.13-py3-none-any.whl (214 kB)\n",
      "\u001b[2K   \u001b[90m━━━━━━━━━━━━━━━━━━━━━━━━━━━━━━━━━━━━━━━━\u001b[0m \u001b[32m214.4/214.4 kB\u001b[0m \u001b[31m18.3 MB/s\u001b[0m eta \u001b[36m0:00:00\u001b[0m\n",
      "\u001b[?25hDownloading widgetsnbextension-4.0.13-py3-none-any.whl (2.3 MB)\n",
      "\u001b[2K   \u001b[90m━━━━━━━━━━━━━━━━━━━━━━━━━━━━━━━━━━━━━━━━\u001b[0m \u001b[32m2.3/2.3 MB\u001b[0m \u001b[31m79.2 MB/s\u001b[0m eta \u001b[36m0:00:00\u001b[0m\n",
      "\u001b[?25hInstalling collected packages: widgetsnbextension, jupyterlab-widgets, ipywidgets\n",
      "Successfully installed ipywidgets-8.1.5 jupyterlab-widgets-3.0.13 widgetsnbextension-4.0.13\n",
      "\u001b[33mWARNING: Running pip as the 'root' user can result in broken permissions and conflicting behaviour with the system package manager, possibly rendering your system unusable.It is recommended to use a virtual environment instead: https://pip.pypa.io/warnings/venv. Use the --root-user-action option if you know what you are doing and want to suppress this warning.\u001b[0m\u001b[33m\n",
      "\u001b[0m\n",
      "\u001b[1m[\u001b[0m\u001b[34;49mnotice\u001b[0m\u001b[1;39;49m]\u001b[0m\u001b[39;49m A new release of pip is available: \u001b[0m\u001b[31;49m24.1.2\u001b[0m\u001b[39;49m -> \u001b[0m\u001b[32;49m24.3.1\u001b[0m\n",
      "\u001b[1m[\u001b[0m\u001b[34;49mnotice\u001b[0m\u001b[1;39;49m]\u001b[0m\u001b[39;49m To update, run: \u001b[0m\u001b[32;49mpython -m pip install --upgrade pip\u001b[0m\n"
     ]
    }
   ],
   "source": [
    "! pip install ipywidgets"
   ]
  },
  {
   "cell_type": "markdown",
   "metadata": {},
   "source": [
    "---\n",
    "## Getting Started"
   ]
  },
  {
   "cell_type": "markdown",
   "metadata": {},
   "source": [
    "To get started, let's setup some environment variables, as well as path variables that will be used for storing the curated data, as well as intermediate temporary files that are required for this notebooks to function."
   ]
  },
  {
   "cell_type": "code",
   "execution_count": 1,
   "metadata": {
    "tags": []
   },
   "outputs": [],
   "source": [
    "import os\n",
    "os.environ[\"DASK_DATAFRAME__QUERY_PLANNING\"] = \"False\"  # Needed for running Curator on the GPU\n",
    "\n",
    "NOTEBOOK_DIR = os.path.abspath(\"\")\n",
    "DATA_DIR = os.path.join(NOTEBOOK_DIR, \"data\")\n",
    "TEMP_DIR = os.path.join(NOTEBOOK_DIR, \".temp\")\n",
    "os.makedirs(DATA_DIR, exist_ok=True)"
   ]
  },
  {
   "cell_type": "markdown",
   "metadata": {},
   "source": [
    "Let's now import everything we need to build our data curation pipeline. For your conveniene, we've provided the document builder implementations that allow you to download the dataset from HuggingFace and convert it into a Pandas `DataFrame`.\n",
    "\n",
    "We have additionally implemented a score-based filter that allows you to filter the dataset rows using the score values assigned to each question. You can use this implementation as the basis for creating your own filtering/scoring mechanisms using NeMo Curator."
   ]
  },
  {
   "cell_type": "code",
   "execution_count": 2,
   "metadata": {
    "tags": []
   },
   "outputs": [],
   "source": [
    "from nemo_curator.utils.distributed_utils import get_client\n",
    "from nemo_curator.datasets import DocumentDataset\n",
    "from nemo_curator.filters import WordCountFilter\n",
    "from nemo_curator.modifiers import UnicodeReformatter\n",
    "from nemo_curator.utils.file_utils import expand_outdir_and_mkdir\n",
    "from nemo_curator import ScoreFilter, Sequential\n",
    "from nemo_curator.modules.modify import Modify\n",
    "\n",
    "# Importing helper functions\n",
    "from helpers.filters import FilterLowScores\n",
    "from helpers.docbuilder import download_and_convert_dataset"
   ]
  },
  {
   "cell_type": "markdown",
   "metadata": {},
   "source": [
    "Before proceeding, let's decide the compute resources we'd like to use for running our data curation pipeline. NeMo Curator uses Dask to orchestrate scalable data processing. As such, it needs to know what resources to use. \n",
    "\n",
    "For the purposes of this notebook, we will instruct NeMo Curator to use 8 CPU workers. While most NeMo Curator functionalities can be executed on the CPU, some modules (such as semantic deduplication) can only be executed on the GPU. Please make sure to select the appropriate device.\n",
    "\n",
    "Note that you can increase or decrease the number of CPU workers depending on the runtime environment. Keep in mind that each CPU worker gets allocated a fixed amount of the total available system memory (RAM). Thus, if the environment does not have enough memory available, Dask operations might fail.\n",
    "\n",
    "Once we have decided on the resources to use, we can initialize our Dask cluster and start using NeMo Curator."
   ]
  },
  {
   "cell_type": "code",
   "execution_count": 3,
   "metadata": {
    "tags": []
   },
   "outputs": [],
   "source": [
    "device = \"cpu\"  # It can be either \"cpu\" or \"gpu\"\n",
    "n_workers = 4  # Number of workers to use for Dask. If running out of memory, try reducing this.\n",
    "client = get_client(device, n_workers=n_workers, set_torch_to_use_rmm=False)"
   ]
  },
  {
   "cell_type": "markdown",
   "metadata": {},
   "source": [
    "---\n",
    "## The Main Data Curation and Processing Pipeline\n",
    "\n",
    "We start by downloading and converting the dataset into a suitable format. This is done via the document builders that we have provided for you."
   ]
  },
  {
   "cell_type": "code",
   "execution_count": null,
   "metadata": {},
   "outputs": [],
   "source": []
  },
  {
   "cell_type": "code",
   "execution_count": 141,
   "metadata": {
    "tags": []
   },
   "outputs": [
    {
     "name": "stdout",
     "output_type": "stream",
     "text": [
      "Download directory:  /root/ODSC-Hackathon-Repository/data/raw\n",
      "File '/root/ODSC-Hackathon-Repository/data/raw/law-stackexchange-questions-answers.json' already exists, skipping download.\n"
     ]
    }
   ],
   "source": [
    "dataset_df = download_and_convert_dataset(DATA_DIR)\n",
    "raw_dataset = DocumentDataset.from_pandas(dataset_df)"
   ]
  },
  {
   "cell_type": "code",
   "execution_count": 130,
   "metadata": {
    "tags": []
   },
   "outputs": [],
   "source": [
    "file_path_og = 'data/raw/law-stackexchange-questions-answers.json' \n",
    "file_path_synth = 'data/raw/synth_data.jsonl' \n",
    "train_dataset_df = pd.read_json(file_path_og, orient='records')\n",
    "synth_dataset_df = pd.read_json(file_path_synth, orient='records',lines=True)"
   ]
  },
  {
   "cell_type": "code",
   "execution_count": 132,
   "metadata": {
    "tags": []
   },
   "outputs": [
    {
     "data": {
      "text/html": [
       "<div>\n",
       "<style scoped>\n",
       "    .dataframe tbody tr th:only-of-type {\n",
       "        vertical-align: middle;\n",
       "    }\n",
       "\n",
       "    .dataframe tbody tr th {\n",
       "        vertical-align: top;\n",
       "    }\n",
       "\n",
       "    .dataframe thead th {\n",
       "        text-align: right;\n",
       "    }\n",
       "</style>\n",
       "<table border=\"1\" class=\"dataframe\">\n",
       "  <thead>\n",
       "    <tr style=\"text-align: right;\">\n",
       "      <th></th>\n",
       "      <th>answers</th>\n",
       "      <th>link</th>\n",
       "      <th>license</th>\n",
       "      <th>question_id</th>\n",
       "      <th>question_body</th>\n",
       "      <th>score</th>\n",
       "      <th>tags</th>\n",
       "      <th>question_title</th>\n",
       "    </tr>\n",
       "  </thead>\n",
       "  <tbody>\n",
       "    <tr>\n",
       "      <th>0</th>\n",
       "      <td>PersonB has to attribute PersonA and, if possi...</td>\n",
       "      <td>0</td>\n",
       "      <td>law-qa-train.jsonl</td>\n",
       "      <td>law-stackexchange-qa-13384</td>\n",
       "      <td>How does the attribution part of the CC licens...</td>\n",
       "      <td>0</td>\n",
       "      <td>attribution,creative-commons</td>\n",
       "      <td>CC-BY Layers of people</td>\n",
       "    </tr>\n",
       "    <tr>\n",
       "      <th>1</th>\n",
       "      <td>Are there ways to comply with GDPR and not dis...</td>\n",
       "      <td>1</td>\n",
       "      <td>law-qa-train.jsonl</td>\n",
       "      <td>law-stackexchange-qa-29296</td>\n",
       "      <td>I'm working as a processor, we host and develo...</td>\n",
       "      <td>0</td>\n",
       "      <td>gdpr</td>\n",
       "      <td>Do i have to disclose all processors to my con...</td>\n",
       "    </tr>\n",
       "    <tr>\n",
       "      <th>2</th>\n",
       "      <td>A related post is here. Are police required to...</td>\n",
       "      <td>4</td>\n",
       "      <td>law-qa-train.jsonl</td>\n",
       "      <td>law-stackexchange-qa-30036</td>\n",
       "      <td>Are police required to record in car dashcam v...</td>\n",
       "      <td>1</td>\n",
       "      <td>discovery,new-jersey,traffic,united-states</td>\n",
       "      <td>What can I do if police did not record video i...</td>\n",
       "    </tr>\n",
       "    <tr>\n",
       "      <th>3</th>\n",
       "      <td>This might be an unnecessary subtle point, but...</td>\n",
       "      <td>2</td>\n",
       "      <td>law-qa-train.jsonl</td>\n",
       "      <td>law-stackexchange-qa-43835</td>\n",
       "      <td>If someone enters personal data in a field whi...</td>\n",
       "      <td>1</td>\n",
       "      <td>data-protection,data-storage,encryption,europe...</td>\n",
       "      <td>Does GDPR apply to personal information entere...</td>\n",
       "    </tr>\n",
       "    <tr>\n",
       "      <th>4</th>\n",
       "      <td>This is a Federal court decision There are no ...</td>\n",
       "      <td>7</td>\n",
       "      <td>law-qa-train.jsonl</td>\n",
       "      <td>law-stackexchange-qa-49039</td>\n",
       "      <td>In a recent case involving an accusation of ex...</td>\n",
       "      <td>1</td>\n",
       "      <td>appeal,criminal-law,united-states</td>\n",
       "      <td>Federal judge sets aside jury verdict</td>\n",
       "    </tr>\n",
       "  </tbody>\n",
       "</table>\n",
       "</div>"
      ],
      "text/plain": [
       "                                             answers  link  \\\n",
       "0  PersonB has to attribute PersonA and, if possi...     0   \n",
       "1  Are there ways to comply with GDPR and not dis...     1   \n",
       "2  A related post is here. Are police required to...     4   \n",
       "3  This might be an unnecessary subtle point, but...     2   \n",
       "4  This is a Federal court decision There are no ...     7   \n",
       "\n",
       "              license                 question_id  \\\n",
       "0  law-qa-train.jsonl  law-stackexchange-qa-13384   \n",
       "1  law-qa-train.jsonl  law-stackexchange-qa-29296   \n",
       "2  law-qa-train.jsonl  law-stackexchange-qa-30036   \n",
       "3  law-qa-train.jsonl  law-stackexchange-qa-43835   \n",
       "4  law-qa-train.jsonl  law-stackexchange-qa-49039   \n",
       "\n",
       "                                       question_body  score  \\\n",
       "0  How does the attribution part of the CC licens...      0   \n",
       "1  I'm working as a processor, we host and develo...      0   \n",
       "2  Are police required to record in car dashcam v...      1   \n",
       "3  If someone enters personal data in a field whi...      1   \n",
       "4  In a recent case involving an accusation of ex...      1   \n",
       "\n",
       "                                                tags  \\\n",
       "0                       attribution,creative-commons   \n",
       "1                                               gdpr   \n",
       "2         discovery,new-jersey,traffic,united-states   \n",
       "3  data-protection,data-storage,encryption,europe...   \n",
       "4                  appeal,criminal-law,united-states   \n",
       "\n",
       "                                      question_title  \n",
       "0                             CC-BY Layers of people  \n",
       "1  Do i have to disclose all processors to my con...  \n",
       "2  What can I do if police did not record video i...  \n",
       "3  Does GDPR apply to personal information entere...  \n",
       "4              Federal judge sets aside jury verdict  "
      ]
     },
     "execution_count": 132,
     "metadata": {},
     "output_type": "execute_result"
    }
   ],
   "source": [
    "synth_dataset_df.rename(columns={'answer': 'answers', 'answer_score': 'link', 'filename':'license', 'id': 'question_id','question':'question_body','question_score':'score','title':'question_title'}, inplace=True)\n",
    "synth_dataset_df.head()"
   ]
  },
  {
   "cell_type": "code",
   "execution_count": 133,
   "metadata": {
    "tags": []
   },
   "outputs": [
    {
     "data": {
      "text/html": [
       "<div>\n",
       "<style scoped>\n",
       "    .dataframe tbody tr th:only-of-type {\n",
       "        vertical-align: middle;\n",
       "    }\n",
       "\n",
       "    .dataframe tbody tr th {\n",
       "        vertical-align: top;\n",
       "    }\n",
       "\n",
       "    .dataframe thead th {\n",
       "        text-align: right;\n",
       "    }\n",
       "</style>\n",
       "<table border=\"1\" class=\"dataframe\">\n",
       "  <thead>\n",
       "    <tr style=\"text-align: right;\">\n",
       "      <th></th>\n",
       "      <th>question_id</th>\n",
       "      <th>tags</th>\n",
       "      <th>score</th>\n",
       "      <th>license</th>\n",
       "      <th>link</th>\n",
       "      <th>question_title</th>\n",
       "      <th>question_body</th>\n",
       "      <th>answers</th>\n",
       "    </tr>\n",
       "  </thead>\n",
       "  <tbody>\n",
       "    <tr>\n",
       "      <th>0</th>\n",
       "      <td>94665</td>\n",
       "      <td>[criminal-law, driving, sentencing]</td>\n",
       "      <td>23</td>\n",
       "      <td>CC BY-SA 4.0</td>\n",
       "      <td>100000</td>\n",
       "      <td>Why is drunk driving causing accident punished...</td>\n",
       "      <td>&lt;p&gt;When people drink and drive and then cause ...</td>\n",
       "      <td>[{'answer_id': 94666, 'score': 72, 'body': '&lt;h...</td>\n",
       "    </tr>\n",
       "    <tr>\n",
       "      <th>1</th>\n",
       "      <td>94671</td>\n",
       "      <td>[contract-law, legal-terms, consideration]</td>\n",
       "      <td>0</td>\n",
       "      <td>CC BY-SA 4.0</td>\n",
       "      <td>100001</td>\n",
       "      <td>What counts as consideration in contract law?</td>\n",
       "      <td>&lt;p&gt;What counts as consideration in contract la...</td>\n",
       "      <td>[{'answer_id': 94672, 'score': 1, 'body': '&lt;p&gt;...</td>\n",
       "    </tr>\n",
       "    <tr>\n",
       "      <th>2</th>\n",
       "      <td>94683</td>\n",
       "      <td>[employment, california, teenager]</td>\n",
       "      <td>1</td>\n",
       "      <td>CC BY-SA 4.0</td>\n",
       "      <td>100002</td>\n",
       "      <td>Question Concerning Responding to Employer of ...</td>\n",
       "      <td>&lt;p&gt;My high school daughter worked for about a ...</td>\n",
       "      <td>[{'answer_id': 94687, 'score': 3, 'body': '&lt;h2...</td>\n",
       "    </tr>\n",
       "    <tr>\n",
       "      <th>3</th>\n",
       "      <td>67110</td>\n",
       "      <td>[united-states, constitutional-law, federalism]</td>\n",
       "      <td>2</td>\n",
       "      <td>CC BY-SA 4.0</td>\n",
       "      <td>100003</td>\n",
       "      <td>Can Hawaii secede from the U.S. through legal ...</td>\n",
       "      <td>&lt;p&gt;Can Hawaii secede from the U.S. through leg...</td>\n",
       "      <td>[{'answer_id': 67111, 'score': 9, 'body': '&lt;p&gt;...</td>\n",
       "    </tr>\n",
       "    <tr>\n",
       "      <th>4</th>\n",
       "      <td>94678</td>\n",
       "      <td>[united-kingdom, property, any-jurisdiction, l...</td>\n",
       "      <td>1</td>\n",
       "      <td>CC BY-SA 4.0</td>\n",
       "      <td>100004</td>\n",
       "      <td>Legality of privately bibby Stockholming to sa...</td>\n",
       "      <td>&lt;p&gt;It seems that the principal impetus of movi...</td>\n",
       "      <td>[{'answer_id': 94712, 'score': 1, 'body': '&lt;p&gt;...</td>\n",
       "    </tr>\n",
       "  </tbody>\n",
       "</table>\n",
       "</div>"
      ],
      "text/plain": [
       "   question_id                                               tags  score  \\\n",
       "0        94665                [criminal-law, driving, sentencing]     23   \n",
       "1        94671         [contract-law, legal-terms, consideration]      0   \n",
       "2        94683                 [employment, california, teenager]      1   \n",
       "3        67110    [united-states, constitutional-law, federalism]      2   \n",
       "4        94678  [united-kingdom, property, any-jurisdiction, l...      1   \n",
       "\n",
       "        license    link                                     question_title  \\\n",
       "0  CC BY-SA 4.0  100000  Why is drunk driving causing accident punished...   \n",
       "1  CC BY-SA 4.0  100001      What counts as consideration in contract law?   \n",
       "2  CC BY-SA 4.0  100002  Question Concerning Responding to Employer of ...   \n",
       "3  CC BY-SA 4.0  100003  Can Hawaii secede from the U.S. through legal ...   \n",
       "4  CC BY-SA 4.0  100004  Legality of privately bibby Stockholming to sa...   \n",
       "\n",
       "                                       question_body  \\\n",
       "0  <p>When people drink and drive and then cause ...   \n",
       "1  <p>What counts as consideration in contract la...   \n",
       "2  <p>My high school daughter worked for about a ...   \n",
       "3  <p>Can Hawaii secede from the U.S. through leg...   \n",
       "4  <p>It seems that the principal impetus of movi...   \n",
       "\n",
       "                                             answers  \n",
       "0  [{'answer_id': 94666, 'score': 72, 'body': '<h...  \n",
       "1  [{'answer_id': 94672, 'score': 1, 'body': '<p>...  \n",
       "2  [{'answer_id': 94687, 'score': 3, 'body': '<h2...  \n",
       "3  [{'answer_id': 67111, 'score': 9, 'body': '<p>...  \n",
       "4  [{'answer_id': 94712, 'score': 1, 'body': '<p>...  "
      ]
     },
     "execution_count": 133,
     "metadata": {},
     "output_type": "execute_result"
    }
   ],
   "source": [
    "import numpy as np\n",
    "synth_dataset_df['question_id'] = np.arange(100000, 100000+len(synth_dataset_df))\n",
    "train_dataset_df['link'] = np.arange(100000, 100000+len(train_dataset_df))\n",
    "train_dataset_df.head()"
   ]
  },
  {
   "cell_type": "code",
   "execution_count": 134,
   "metadata": {
    "tags": []
   },
   "outputs": [
    {
     "data": {
      "text/html": [
       "<div>\n",
       "<style scoped>\n",
       "    .dataframe tbody tr th:only-of-type {\n",
       "        vertical-align: middle;\n",
       "    }\n",
       "\n",
       "    .dataframe tbody tr th {\n",
       "        vertical-align: top;\n",
       "    }\n",
       "\n",
       "    .dataframe thead th {\n",
       "        text-align: right;\n",
       "    }\n",
       "</style>\n",
       "<table border=\"1\" class=\"dataframe\">\n",
       "  <thead>\n",
       "    <tr style=\"text-align: right;\">\n",
       "      <th></th>\n",
       "      <th>answers</th>\n",
       "      <th>link</th>\n",
       "      <th>license</th>\n",
       "      <th>question_id</th>\n",
       "      <th>question_body</th>\n",
       "      <th>score</th>\n",
       "      <th>tags</th>\n",
       "      <th>question_title</th>\n",
       "    </tr>\n",
       "  </thead>\n",
       "  <tbody>\n",
       "    <tr>\n",
       "      <th>0</th>\n",
       "      <td>[{'answer_id': 3357914, 'score': 72, 'body': '...</td>\n",
       "      <td>0</td>\n",
       "      <td>law-qa-train.jsonl</td>\n",
       "      <td>100000</td>\n",
       "      <td>How does the attribution part of the CC licens...</td>\n",
       "      <td>0</td>\n",
       "      <td>attribution,creative-commons</td>\n",
       "      <td>CC-BY Layers of people</td>\n",
       "    </tr>\n",
       "    <tr>\n",
       "      <th>1</th>\n",
       "      <td>[{'answer_id': 6371778, 'score': 72, 'body': '...</td>\n",
       "      <td>1</td>\n",
       "      <td>law-qa-train.jsonl</td>\n",
       "      <td>100001</td>\n",
       "      <td>I'm working as a processor, we host and develo...</td>\n",
       "      <td>0</td>\n",
       "      <td>gdpr</td>\n",
       "      <td>Do i have to disclose all processors to my con...</td>\n",
       "    </tr>\n",
       "    <tr>\n",
       "      <th>2</th>\n",
       "      <td>[{'answer_id': 977219, 'score': 72, 'body': 'A...</td>\n",
       "      <td>4</td>\n",
       "      <td>law-qa-train.jsonl</td>\n",
       "      <td>100002</td>\n",
       "      <td>Are police required to record in car dashcam v...</td>\n",
       "      <td>1</td>\n",
       "      <td>discovery,new-jersey,traffic,united-states</td>\n",
       "      <td>What can I do if police did not record video i...</td>\n",
       "    </tr>\n",
       "    <tr>\n",
       "      <th>3</th>\n",
       "      <td>[{'answer_id': 4601866, 'score': 72, 'body': '...</td>\n",
       "      <td>2</td>\n",
       "      <td>law-qa-train.jsonl</td>\n",
       "      <td>100003</td>\n",
       "      <td>If someone enters personal data in a field whi...</td>\n",
       "      <td>1</td>\n",
       "      <td>data-protection,data-storage,encryption,europe...</td>\n",
       "      <td>Does GDPR apply to personal information entere...</td>\n",
       "    </tr>\n",
       "    <tr>\n",
       "      <th>4</th>\n",
       "      <td>[{'answer_id': 6679438, 'score': 72, 'body': '...</td>\n",
       "      <td>7</td>\n",
       "      <td>law-qa-train.jsonl</td>\n",
       "      <td>100004</td>\n",
       "      <td>In a recent case involving an accusation of ex...</td>\n",
       "      <td>1</td>\n",
       "      <td>appeal,criminal-law,united-states</td>\n",
       "      <td>Federal judge sets aside jury verdict</td>\n",
       "    </tr>\n",
       "  </tbody>\n",
       "</table>\n",
       "</div>"
      ],
      "text/plain": [
       "                                             answers  link  \\\n",
       "0  [{'answer_id': 3357914, 'score': 72, 'body': '...     0   \n",
       "1  [{'answer_id': 6371778, 'score': 72, 'body': '...     1   \n",
       "2  [{'answer_id': 977219, 'score': 72, 'body': 'A...     4   \n",
       "3  [{'answer_id': 4601866, 'score': 72, 'body': '...     2   \n",
       "4  [{'answer_id': 6679438, 'score': 72, 'body': '...     7   \n",
       "\n",
       "              license  question_id  \\\n",
       "0  law-qa-train.jsonl       100000   \n",
       "1  law-qa-train.jsonl       100001   \n",
       "2  law-qa-train.jsonl       100002   \n",
       "3  law-qa-train.jsonl       100003   \n",
       "4  law-qa-train.jsonl       100004   \n",
       "\n",
       "                                       question_body  score  \\\n",
       "0  How does the attribution part of the CC licens...      0   \n",
       "1  I'm working as a processor, we host and develo...      0   \n",
       "2  Are police required to record in car dashcam v...      1   \n",
       "3  If someone enters personal data in a field whi...      1   \n",
       "4  In a recent case involving an accusation of ex...      1   \n",
       "\n",
       "                                                tags  \\\n",
       "0                       attribution,creative-commons   \n",
       "1                                               gdpr   \n",
       "2         discovery,new-jersey,traffic,united-states   \n",
       "3  data-protection,data-storage,encryption,europe...   \n",
       "4                  appeal,criminal-law,united-states   \n",
       "\n",
       "                                      question_title  \n",
       "0                             CC-BY Layers of people  \n",
       "1  Do i have to disclose all processors to my con...  \n",
       "2  What can I do if police did not record video i...  \n",
       "3  Does GDPR apply to personal information entere...  \n",
       "4              Federal judge sets aside jury verdict  "
      ]
     },
     "execution_count": 134,
     "metadata": {},
     "output_type": "execute_result"
    }
   ],
   "source": [
    "import random\n",
    "synth_dataset_df['answers'] = [ [{'answer_id': random.randint(946666, 9466666), 'score': 72, 'body': x}] for x in synth_dataset_df['answers'] ]\n",
    "synth_dataset_df.head()"
   ]
  },
  {
   "cell_type": "code",
   "execution_count": 135,
   "metadata": {
    "tags": []
   },
   "outputs": [
    {
     "data": {
      "text/html": [
       "<div>\n",
       "<style scoped>\n",
       "    .dataframe tbody tr th:only-of-type {\n",
       "        vertical-align: middle;\n",
       "    }\n",
       "\n",
       "    .dataframe tbody tr th {\n",
       "        vertical-align: top;\n",
       "    }\n",
       "\n",
       "    .dataframe thead th {\n",
       "        text-align: right;\n",
       "    }\n",
       "</style>\n",
       "<table border=\"1\" class=\"dataframe\">\n",
       "  <thead>\n",
       "    <tr style=\"text-align: right;\">\n",
       "      <th></th>\n",
       "      <th>question_id</th>\n",
       "      <th>tags</th>\n",
       "      <th>score</th>\n",
       "      <th>license</th>\n",
       "      <th>link</th>\n",
       "      <th>question_title</th>\n",
       "      <th>question_body</th>\n",
       "      <th>answers</th>\n",
       "    </tr>\n",
       "  </thead>\n",
       "  <tbody>\n",
       "    <tr>\n",
       "      <th>0</th>\n",
       "      <td>94665</td>\n",
       "      <td>criminal-law,driving,sentencing</td>\n",
       "      <td>23</td>\n",
       "      <td>CC BY-SA 4.0</td>\n",
       "      <td>100000</td>\n",
       "      <td>Why is drunk driving causing accident punished...</td>\n",
       "      <td>&lt;p&gt;When people drink and drive and then cause ...</td>\n",
       "      <td>[{'answer_id': 94666, 'score': 72, 'body': '&lt;h...</td>\n",
       "    </tr>\n",
       "    <tr>\n",
       "      <th>1</th>\n",
       "      <td>94671</td>\n",
       "      <td>contract-law,legal-terms,consideration</td>\n",
       "      <td>0</td>\n",
       "      <td>CC BY-SA 4.0</td>\n",
       "      <td>100001</td>\n",
       "      <td>What counts as consideration in contract law?</td>\n",
       "      <td>&lt;p&gt;What counts as consideration in contract la...</td>\n",
       "      <td>[{'answer_id': 94672, 'score': 1, 'body': '&lt;p&gt;...</td>\n",
       "    </tr>\n",
       "    <tr>\n",
       "      <th>2</th>\n",
       "      <td>94683</td>\n",
       "      <td>employment,california,teenager</td>\n",
       "      <td>1</td>\n",
       "      <td>CC BY-SA 4.0</td>\n",
       "      <td>100002</td>\n",
       "      <td>Question Concerning Responding to Employer of ...</td>\n",
       "      <td>&lt;p&gt;My high school daughter worked for about a ...</td>\n",
       "      <td>[{'answer_id': 94687, 'score': 3, 'body': '&lt;h2...</td>\n",
       "    </tr>\n",
       "    <tr>\n",
       "      <th>3</th>\n",
       "      <td>67110</td>\n",
       "      <td>united-states,constitutional-law,federalism</td>\n",
       "      <td>2</td>\n",
       "      <td>CC BY-SA 4.0</td>\n",
       "      <td>100003</td>\n",
       "      <td>Can Hawaii secede from the U.S. through legal ...</td>\n",
       "      <td>&lt;p&gt;Can Hawaii secede from the U.S. through leg...</td>\n",
       "      <td>[{'answer_id': 67111, 'score': 9, 'body': '&lt;p&gt;...</td>\n",
       "    </tr>\n",
       "    <tr>\n",
       "      <th>4</th>\n",
       "      <td>94678</td>\n",
       "      <td>united-kingdom,property,any-jurisdiction,law-o...</td>\n",
       "      <td>1</td>\n",
       "      <td>CC BY-SA 4.0</td>\n",
       "      <td>100004</td>\n",
       "      <td>Legality of privately bibby Stockholming to sa...</td>\n",
       "      <td>&lt;p&gt;It seems that the principal impetus of movi...</td>\n",
       "      <td>[{'answer_id': 94712, 'score': 1, 'body': '&lt;p&gt;...</td>\n",
       "    </tr>\n",
       "  </tbody>\n",
       "</table>\n",
       "</div>"
      ],
      "text/plain": [
       "   question_id                                               tags  score  \\\n",
       "0        94665                    criminal-law,driving,sentencing     23   \n",
       "1        94671             contract-law,legal-terms,consideration      0   \n",
       "2        94683                     employment,california,teenager      1   \n",
       "3        67110        united-states,constitutional-law,federalism      2   \n",
       "4        94678  united-kingdom,property,any-jurisdiction,law-o...      1   \n",
       "\n",
       "        license    link                                     question_title  \\\n",
       "0  CC BY-SA 4.0  100000  Why is drunk driving causing accident punished...   \n",
       "1  CC BY-SA 4.0  100001      What counts as consideration in contract law?   \n",
       "2  CC BY-SA 4.0  100002  Question Concerning Responding to Employer of ...   \n",
       "3  CC BY-SA 4.0  100003  Can Hawaii secede from the U.S. through legal ...   \n",
       "4  CC BY-SA 4.0  100004  Legality of privately bibby Stockholming to sa...   \n",
       "\n",
       "                                       question_body  \\\n",
       "0  <p>When people drink and drive and then cause ...   \n",
       "1  <p>What counts as consideration in contract la...   \n",
       "2  <p>My high school daughter worked for about a ...   \n",
       "3  <p>Can Hawaii secede from the U.S. through leg...   \n",
       "4  <p>It seems that the principal impetus of movi...   \n",
       "\n",
       "                                             answers  \n",
       "0  [{'answer_id': 94666, 'score': 72, 'body': '<h...  \n",
       "1  [{'answer_id': 94672, 'score': 1, 'body': '<p>...  \n",
       "2  [{'answer_id': 94687, 'score': 3, 'body': '<h2...  \n",
       "3  [{'answer_id': 67111, 'score': 9, 'body': '<p>...  \n",
       "4  [{'answer_id': 94712, 'score': 1, 'body': '<p>...  "
      ]
     },
     "execution_count": 135,
     "metadata": {},
     "output_type": "execute_result"
    }
   ],
   "source": [
    "train_dataset_df['tags'] = [ ','.join(map(str, x)) for x in train_dataset_df['tags']]\n",
    "# df['column_with_lists'] = df['column_with_lists'].apply(lambda x: str(x) if isinstance(x, list) else x)\n",
    "train_dataset_df.head()"
   ]
  },
  {
   "cell_type": "code",
   "execution_count": 136,
   "metadata": {
    "tags": []
   },
   "outputs": [
    {
     "data": {
      "text/html": [
       "<div>\n",
       "<style scoped>\n",
       "    .dataframe tbody tr th:only-of-type {\n",
       "        vertical-align: middle;\n",
       "    }\n",
       "\n",
       "    .dataframe tbody tr th {\n",
       "        vertical-align: top;\n",
       "    }\n",
       "\n",
       "    .dataframe thead th {\n",
       "        text-align: right;\n",
       "    }\n",
       "</style>\n",
       "<table border=\"1\" class=\"dataframe\">\n",
       "  <thead>\n",
       "    <tr style=\"text-align: right;\">\n",
       "      <th></th>\n",
       "      <th>answers</th>\n",
       "      <th>link</th>\n",
       "      <th>license</th>\n",
       "      <th>question_id</th>\n",
       "      <th>question_body</th>\n",
       "      <th>score</th>\n",
       "      <th>tags</th>\n",
       "      <th>question_title</th>\n",
       "    </tr>\n",
       "  </thead>\n",
       "  <tbody>\n",
       "    <tr>\n",
       "      <th>0</th>\n",
       "      <td>[{'answer_id': 3357914, 'score': 72, 'body': '...</td>\n",
       "      <td>0</td>\n",
       "      <td>law-qa-train.jsonl</td>\n",
       "      <td>100000</td>\n",
       "      <td>How does the attribution part of the CC licens...</td>\n",
       "      <td>0</td>\n",
       "      <td>attribution,creative-commons</td>\n",
       "      <td>CC-BY Layers of people</td>\n",
       "    </tr>\n",
       "    <tr>\n",
       "      <th>1</th>\n",
       "      <td>[{'answer_id': 6371778, 'score': 72, 'body': '...</td>\n",
       "      <td>1</td>\n",
       "      <td>law-qa-train.jsonl</td>\n",
       "      <td>100001</td>\n",
       "      <td>I'm working as a processor, we host and develo...</td>\n",
       "      <td>0</td>\n",
       "      <td>gdpr</td>\n",
       "      <td>Do i have to disclose all processors to my con...</td>\n",
       "    </tr>\n",
       "    <tr>\n",
       "      <th>2</th>\n",
       "      <td>[{'answer_id': 977219, 'score': 72, 'body': 'A...</td>\n",
       "      <td>4</td>\n",
       "      <td>law-qa-train.jsonl</td>\n",
       "      <td>100002</td>\n",
       "      <td>Are police required to record in car dashcam v...</td>\n",
       "      <td>1</td>\n",
       "      <td>discovery,new-jersey,traffic,united-states</td>\n",
       "      <td>What can I do if police did not record video i...</td>\n",
       "    </tr>\n",
       "    <tr>\n",
       "      <th>3</th>\n",
       "      <td>[{'answer_id': 4601866, 'score': 72, 'body': '...</td>\n",
       "      <td>2</td>\n",
       "      <td>law-qa-train.jsonl</td>\n",
       "      <td>100003</td>\n",
       "      <td>If someone enters personal data in a field whi...</td>\n",
       "      <td>1</td>\n",
       "      <td>data-protection,data-storage,encryption,europe...</td>\n",
       "      <td>Does GDPR apply to personal information entere...</td>\n",
       "    </tr>\n",
       "    <tr>\n",
       "      <th>4</th>\n",
       "      <td>[{'answer_id': 6679438, 'score': 72, 'body': '...</td>\n",
       "      <td>7</td>\n",
       "      <td>law-qa-train.jsonl</td>\n",
       "      <td>100004</td>\n",
       "      <td>In a recent case involving an accusation of ex...</td>\n",
       "      <td>1</td>\n",
       "      <td>appeal,criminal-law,united-states</td>\n",
       "      <td>Federal judge sets aside jury verdict</td>\n",
       "    </tr>\n",
       "  </tbody>\n",
       "</table>\n",
       "</div>"
      ],
      "text/plain": [
       "                                             answers  link  \\\n",
       "0  [{'answer_id': 3357914, 'score': 72, 'body': '...     0   \n",
       "1  [{'answer_id': 6371778, 'score': 72, 'body': '...     1   \n",
       "2  [{'answer_id': 977219, 'score': 72, 'body': 'A...     4   \n",
       "3  [{'answer_id': 4601866, 'score': 72, 'body': '...     2   \n",
       "4  [{'answer_id': 6679438, 'score': 72, 'body': '...     7   \n",
       "\n",
       "              license  question_id  \\\n",
       "0  law-qa-train.jsonl       100000   \n",
       "1  law-qa-train.jsonl       100001   \n",
       "2  law-qa-train.jsonl       100002   \n",
       "3  law-qa-train.jsonl       100003   \n",
       "4  law-qa-train.jsonl       100004   \n",
       "\n",
       "                                       question_body  score  \\\n",
       "0  How does the attribution part of the CC licens...      0   \n",
       "1  I'm working as a processor, we host and develo...      0   \n",
       "2  Are police required to record in car dashcam v...      1   \n",
       "3  If someone enters personal data in a field whi...      1   \n",
       "4  In a recent case involving an accusation of ex...      1   \n",
       "\n",
       "                                                tags  \\\n",
       "0                       attribution,creative-commons   \n",
       "1                                               gdpr   \n",
       "2         discovery,new-jersey,traffic,united-states   \n",
       "3  data-protection,data-storage,encryption,europe...   \n",
       "4                  appeal,criminal-law,united-states   \n",
       "\n",
       "                                      question_title  \n",
       "0                             CC-BY Layers of people  \n",
       "1  Do i have to disclose all processors to my con...  \n",
       "2  What can I do if police did not record video i...  \n",
       "3  Does GDPR apply to personal information entere...  \n",
       "4              Federal judge sets aside jury verdict  "
      ]
     },
     "execution_count": 136,
     "metadata": {},
     "output_type": "execute_result"
    }
   ],
   "source": [
    "#synth_dataset_df = synth_dataset_df.drop(columns=[\"answers\"])\n",
    "#train_dataset_df = train_dataset_df.drop(columns=[\"answers\"])\n",
    "synth_dataset_df.head()"
   ]
  },
  {
   "cell_type": "code",
   "execution_count": 137,
   "metadata": {
    "tags": []
   },
   "outputs": [
    {
     "name": "stdout",
     "output_type": "stream",
     "text": [
      "int64\n",
      "int64\n",
      "object\n",
      "object\n",
      "int64\n",
      "int64\n",
      "object\n",
      "object\n",
      "int64\n",
      "int64\n",
      "object\n",
      "object\n",
      "object\n",
      "object\n",
      "object\n",
      "object\n"
     ]
    }
   ],
   "source": [
    "for c in train_dataset_df.columns:\n",
    "    print(train_dataset_df[c].dtype)\n",
    "    print(synth_dataset_df[c].dtype)"
   ]
  },
  {
   "cell_type": "code",
   "execution_count": 126,
   "metadata": {
    "tags": []
   },
   "outputs": [
    {
     "data": {
      "text/plain": [
       "Index(['answers', 'link', 'license', 'question_id', 'question_body', 'score',\n",
       "       'tags', 'question_title'],\n",
       "      dtype='object')"
      ]
     },
     "execution_count": 126,
     "metadata": {},
     "output_type": "execute_result"
    }
   ],
   "source": [
    "synth_dataset_df.columns "
   ]
  },
  {
   "cell_type": "code",
   "execution_count": 138,
   "metadata": {
    "tags": []
   },
   "outputs": [
    {
     "data": {
      "text/html": [
       "<div>\n",
       "<style scoped>\n",
       "    .dataframe tbody tr th:only-of-type {\n",
       "        vertical-align: middle;\n",
       "    }\n",
       "\n",
       "    .dataframe tbody tr th {\n",
       "        vertical-align: top;\n",
       "    }\n",
       "\n",
       "    .dataframe thead th {\n",
       "        text-align: right;\n",
       "    }\n",
       "</style>\n",
       "<table border=\"1\" class=\"dataframe\">\n",
       "  <thead>\n",
       "    <tr style=\"text-align: right;\">\n",
       "      <th></th>\n",
       "      <th>question_id</th>\n",
       "      <th>tags</th>\n",
       "      <th>score</th>\n",
       "      <th>license</th>\n",
       "      <th>link</th>\n",
       "      <th>question_title</th>\n",
       "      <th>question_body</th>\n",
       "      <th>answers</th>\n",
       "    </tr>\n",
       "  </thead>\n",
       "  <tbody>\n",
       "    <tr>\n",
       "      <th>0</th>\n",
       "      <td>94665</td>\n",
       "      <td>criminal-law,driving,sentencing</td>\n",
       "      <td>23</td>\n",
       "      <td>CC BY-SA 4.0</td>\n",
       "      <td>100000</td>\n",
       "      <td>Why is drunk driving causing accident punished...</td>\n",
       "      <td>&lt;p&gt;When people drink and drive and then cause ...</td>\n",
       "      <td>[{'answer_id': 94666, 'score': 72, 'body': '&lt;h...</td>\n",
       "    </tr>\n",
       "    <tr>\n",
       "      <th>1</th>\n",
       "      <td>94671</td>\n",
       "      <td>contract-law,legal-terms,consideration</td>\n",
       "      <td>0</td>\n",
       "      <td>CC BY-SA 4.0</td>\n",
       "      <td>100001</td>\n",
       "      <td>What counts as consideration in contract law?</td>\n",
       "      <td>&lt;p&gt;What counts as consideration in contract la...</td>\n",
       "      <td>[{'answer_id': 94672, 'score': 1, 'body': '&lt;p&gt;...</td>\n",
       "    </tr>\n",
       "    <tr>\n",
       "      <th>2</th>\n",
       "      <td>94683</td>\n",
       "      <td>employment,california,teenager</td>\n",
       "      <td>1</td>\n",
       "      <td>CC BY-SA 4.0</td>\n",
       "      <td>100002</td>\n",
       "      <td>Question Concerning Responding to Employer of ...</td>\n",
       "      <td>&lt;p&gt;My high school daughter worked for about a ...</td>\n",
       "      <td>[{'answer_id': 94687, 'score': 3, 'body': '&lt;h2...</td>\n",
       "    </tr>\n",
       "    <tr>\n",
       "      <th>3</th>\n",
       "      <td>67110</td>\n",
       "      <td>united-states,constitutional-law,federalism</td>\n",
       "      <td>2</td>\n",
       "      <td>CC BY-SA 4.0</td>\n",
       "      <td>100003</td>\n",
       "      <td>Can Hawaii secede from the U.S. through legal ...</td>\n",
       "      <td>&lt;p&gt;Can Hawaii secede from the U.S. through leg...</td>\n",
       "      <td>[{'answer_id': 67111, 'score': 9, 'body': '&lt;p&gt;...</td>\n",
       "    </tr>\n",
       "    <tr>\n",
       "      <th>4</th>\n",
       "      <td>94678</td>\n",
       "      <td>united-kingdom,property,any-jurisdiction,law-o...</td>\n",
       "      <td>1</td>\n",
       "      <td>CC BY-SA 4.0</td>\n",
       "      <td>100004</td>\n",
       "      <td>Legality of privately bibby Stockholming to sa...</td>\n",
       "      <td>&lt;p&gt;It seems that the principal impetus of movi...</td>\n",
       "      <td>[{'answer_id': 94712, 'score': 1, 'body': '&lt;p&gt;...</td>\n",
       "    </tr>\n",
       "  </tbody>\n",
       "</table>\n",
       "</div>"
      ],
      "text/plain": [
       "   question_id                                               tags  score  \\\n",
       "0        94665                    criminal-law,driving,sentencing     23   \n",
       "1        94671             contract-law,legal-terms,consideration      0   \n",
       "2        94683                     employment,california,teenager      1   \n",
       "3        67110        united-states,constitutional-law,federalism      2   \n",
       "4        94678  united-kingdom,property,any-jurisdiction,law-o...      1   \n",
       "\n",
       "        license    link                                     question_title  \\\n",
       "0  CC BY-SA 4.0  100000  Why is drunk driving causing accident punished...   \n",
       "1  CC BY-SA 4.0  100001      What counts as consideration in contract law?   \n",
       "2  CC BY-SA 4.0  100002  Question Concerning Responding to Employer of ...   \n",
       "3  CC BY-SA 4.0  100003  Can Hawaii secede from the U.S. through legal ...   \n",
       "4  CC BY-SA 4.0  100004  Legality of privately bibby Stockholming to sa...   \n",
       "\n",
       "                                       question_body  \\\n",
       "0  <p>When people drink and drive and then cause ...   \n",
       "1  <p>What counts as consideration in contract la...   \n",
       "2  <p>My high school daughter worked for about a ...   \n",
       "3  <p>Can Hawaii secede from the U.S. through leg...   \n",
       "4  <p>It seems that the principal impetus of movi...   \n",
       "\n",
       "                                             answers  \n",
       "0  [{'answer_id': 94666, 'score': 72, 'body': '<h...  \n",
       "1  [{'answer_id': 94672, 'score': 1, 'body': '<p>...  \n",
       "2  [{'answer_id': 94687, 'score': 3, 'body': '<h2...  \n",
       "3  [{'answer_id': 67111, 'score': 9, 'body': '<p>...  \n",
       "4  [{'answer_id': 94712, 'score': 1, 'body': '<p>...  "
      ]
     },
     "execution_count": 138,
     "metadata": {},
     "output_type": "execute_result"
    }
   ],
   "source": [
    "df = pd.concat([train_dataset_df, synth_dataset_df], ignore_index=True)\n",
    "df.head()"
   ]
  },
  {
   "cell_type": "markdown",
   "metadata": {
    "tags": []
   },
   "source": [
    "I did it!"
   ]
  },
  {
   "cell_type": "code",
   "execution_count": 139,
   "metadata": {
    "tags": []
   },
   "outputs": [
    {
     "data": {
      "text/html": [
       "<div>\n",
       "<style scoped>\n",
       "    .dataframe tbody tr th:only-of-type {\n",
       "        vertical-align: middle;\n",
       "    }\n",
       "\n",
       "    .dataframe tbody tr th {\n",
       "        vertical-align: top;\n",
       "    }\n",
       "\n",
       "    .dataframe thead th {\n",
       "        text-align: right;\n",
       "    }\n",
       "</style>\n",
       "<table border=\"1\" class=\"dataframe\">\n",
       "  <thead>\n",
       "    <tr style=\"text-align: right;\">\n",
       "      <th></th>\n",
       "      <th>question_id</th>\n",
       "      <th>tags</th>\n",
       "      <th>score</th>\n",
       "      <th>license</th>\n",
       "      <th>link</th>\n",
       "      <th>question_title</th>\n",
       "      <th>question_body</th>\n",
       "      <th>answers</th>\n",
       "    </tr>\n",
       "  </thead>\n",
       "  <tbody>\n",
       "    <tr>\n",
       "      <th>0</th>\n",
       "      <td>94665</td>\n",
       "      <td>[criminal-law, driving, sentencing]</td>\n",
       "      <td>23</td>\n",
       "      <td>CC BY-SA 4.0</td>\n",
       "      <td>100000</td>\n",
       "      <td>Why is drunk driving causing accident punished...</td>\n",
       "      <td>&lt;p&gt;When people drink and drive and then cause ...</td>\n",
       "      <td>[{'answer_id': 94666, 'score': 72, 'body': '&lt;h...</td>\n",
       "    </tr>\n",
       "    <tr>\n",
       "      <th>1</th>\n",
       "      <td>94671</td>\n",
       "      <td>[contract-law, legal-terms, consideration]</td>\n",
       "      <td>0</td>\n",
       "      <td>CC BY-SA 4.0</td>\n",
       "      <td>100001</td>\n",
       "      <td>What counts as consideration in contract law?</td>\n",
       "      <td>&lt;p&gt;What counts as consideration in contract la...</td>\n",
       "      <td>[{'answer_id': 94672, 'score': 1, 'body': '&lt;p&gt;...</td>\n",
       "    </tr>\n",
       "    <tr>\n",
       "      <th>2</th>\n",
       "      <td>94683</td>\n",
       "      <td>[employment, california, teenager]</td>\n",
       "      <td>1</td>\n",
       "      <td>CC BY-SA 4.0</td>\n",
       "      <td>100002</td>\n",
       "      <td>Question Concerning Responding to Employer of ...</td>\n",
       "      <td>&lt;p&gt;My high school daughter worked for about a ...</td>\n",
       "      <td>[{'answer_id': 94687, 'score': 3, 'body': '&lt;h2...</td>\n",
       "    </tr>\n",
       "    <tr>\n",
       "      <th>3</th>\n",
       "      <td>67110</td>\n",
       "      <td>[united-states, constitutional-law, federalism]</td>\n",
       "      <td>2</td>\n",
       "      <td>CC BY-SA 4.0</td>\n",
       "      <td>100003</td>\n",
       "      <td>Can Hawaii secede from the U.S. through legal ...</td>\n",
       "      <td>&lt;p&gt;Can Hawaii secede from the U.S. through leg...</td>\n",
       "      <td>[{'answer_id': 67111, 'score': 9, 'body': '&lt;p&gt;...</td>\n",
       "    </tr>\n",
       "    <tr>\n",
       "      <th>4</th>\n",
       "      <td>94678</td>\n",
       "      <td>[united-kingdom, property, any-jurisdiction, l...</td>\n",
       "      <td>1</td>\n",
       "      <td>CC BY-SA 4.0</td>\n",
       "      <td>100004</td>\n",
       "      <td>Legality of privately bibby Stockholming to sa...</td>\n",
       "      <td>&lt;p&gt;It seems that the principal impetus of movi...</td>\n",
       "      <td>[{'answer_id': 94712, 'score': 1, 'body': '&lt;p&gt;...</td>\n",
       "    </tr>\n",
       "  </tbody>\n",
       "</table>\n",
       "</div>"
      ],
      "text/plain": [
       "   question_id                                               tags  score  \\\n",
       "0        94665                [criminal-law, driving, sentencing]     23   \n",
       "1        94671         [contract-law, legal-terms, consideration]      0   \n",
       "2        94683                 [employment, california, teenager]      1   \n",
       "3        67110    [united-states, constitutional-law, federalism]      2   \n",
       "4        94678  [united-kingdom, property, any-jurisdiction, l...      1   \n",
       "\n",
       "        license    link                                     question_title  \\\n",
       "0  CC BY-SA 4.0  100000  Why is drunk driving causing accident punished...   \n",
       "1  CC BY-SA 4.0  100001      What counts as consideration in contract law?   \n",
       "2  CC BY-SA 4.0  100002  Question Concerning Responding to Employer of ...   \n",
       "3  CC BY-SA 4.0  100003  Can Hawaii secede from the U.S. through legal ...   \n",
       "4  CC BY-SA 4.0  100004  Legality of privately bibby Stockholming to sa...   \n",
       "\n",
       "                                       question_body  \\\n",
       "0  <p>When people drink and drive and then cause ...   \n",
       "1  <p>What counts as consideration in contract la...   \n",
       "2  <p>My high school daughter worked for about a ...   \n",
       "3  <p>Can Hawaii secede from the U.S. through leg...   \n",
       "4  <p>It seems that the principal impetus of movi...   \n",
       "\n",
       "                                             answers  \n",
       "0  [{'answer_id': 94666, 'score': 72, 'body': '<h...  \n",
       "1  [{'answer_id': 94672, 'score': 1, 'body': '<p>...  \n",
       "2  [{'answer_id': 94687, 'score': 3, 'body': '<h2...  \n",
       "3  [{'answer_id': 67111, 'score': 9, 'body': '<p>...  \n",
       "4  [{'answer_id': 94712, 'score': 1, 'body': '<p>...  "
      ]
     },
     "execution_count": 139,
     "metadata": {},
     "output_type": "execute_result"
    }
   ],
   "source": [
    "df['tags'] = [ x.split(',') for x in df['tags']]\n",
    "df.head()"
   ]
  },
  {
   "cell_type": "code",
   "execution_count": 140,
   "metadata": {
    "tags": []
   },
   "outputs": [],
   "source": [
    "df.to_json(file_path_og, orient='records')"
   ]
  },
  {
   "cell_type": "code",
   "execution_count": 10,
   "metadata": {
    "tags": []
   },
   "outputs": [
    {
     "name": "stdout",
     "output_type": "stream",
     "text": [
      "Reading 1 files\n"
     ]
    },
    {
     "data": {
      "text/html": [
       "<div>\n",
       "<style scoped>\n",
       "    .dataframe tbody tr th:only-of-type {\n",
       "        vertical-align: middle;\n",
       "    }\n",
       "\n",
       "    .dataframe tbody tr th {\n",
       "        vertical-align: top;\n",
       "    }\n",
       "\n",
       "    .dataframe thead th {\n",
       "        text-align: right;\n",
       "    }\n",
       "</style>\n",
       "<table border=\"1\" class=\"dataframe\">\n",
       "  <thead>\n",
       "    <tr style=\"text-align: right;\">\n",
       "      <th></th>\n",
       "      <th>answer</th>\n",
       "      <th>answer_score</th>\n",
       "      <th>filename</th>\n",
       "      <th>id</th>\n",
       "      <th>question</th>\n",
       "      <th>question_score</th>\n",
       "      <th>tags</th>\n",
       "      <th>title</th>\n",
       "    </tr>\n",
       "  </thead>\n",
       "  <tbody>\n",
       "    <tr>\n",
       "      <th>0</th>\n",
       "      <td>PersonB has to attribute PersonA and, if possi...</td>\n",
       "      <td>0</td>\n",
       "      <td>law-qa-train.jsonl</td>\n",
       "      <td>law-stackexchange-qa-13384</td>\n",
       "      <td>How does the attribution part of the CC licens...</td>\n",
       "      <td>0</td>\n",
       "      <td>attribution,creative-commons</td>\n",
       "      <td>CC-BY Layers of people</td>\n",
       "    </tr>\n",
       "    <tr>\n",
       "      <th>1</th>\n",
       "      <td>Are there ways to comply with GDPR and not dis...</td>\n",
       "      <td>1</td>\n",
       "      <td>law-qa-train.jsonl</td>\n",
       "      <td>law-stackexchange-qa-29296</td>\n",
       "      <td>I'm working as a processor, we host and develo...</td>\n",
       "      <td>0</td>\n",
       "      <td>gdpr</td>\n",
       "      <td>Do i have to disclose all processors to my con...</td>\n",
       "    </tr>\n",
       "    <tr>\n",
       "      <th>2</th>\n",
       "      <td>A related post is here. Are police required to...</td>\n",
       "      <td>4</td>\n",
       "      <td>law-qa-train.jsonl</td>\n",
       "      <td>law-stackexchange-qa-30036</td>\n",
       "      <td>Are police required to record in car dashcam v...</td>\n",
       "      <td>1</td>\n",
       "      <td>discovery,new-jersey,traffic,united-states</td>\n",
       "      <td>What can I do if police did not record video i...</td>\n",
       "    </tr>\n",
       "    <tr>\n",
       "      <th>3</th>\n",
       "      <td>This might be an unnecessary subtle point, but...</td>\n",
       "      <td>2</td>\n",
       "      <td>law-qa-train.jsonl</td>\n",
       "      <td>law-stackexchange-qa-43835</td>\n",
       "      <td>If someone enters personal data in a field whi...</td>\n",
       "      <td>1</td>\n",
       "      <td>data-protection,data-storage,encryption,europe...</td>\n",
       "      <td>Does GDPR apply to personal information entere...</td>\n",
       "    </tr>\n",
       "    <tr>\n",
       "      <th>4</th>\n",
       "      <td>This is a Federal court decision There are no ...</td>\n",
       "      <td>7</td>\n",
       "      <td>law-qa-train.jsonl</td>\n",
       "      <td>law-stackexchange-qa-49039</td>\n",
       "      <td>In a recent case involving an accusation of ex...</td>\n",
       "      <td>1</td>\n",
       "      <td>appeal,criminal-law,united-states</td>\n",
       "      <td>Federal judge sets aside jury verdict</td>\n",
       "    </tr>\n",
       "  </tbody>\n",
       "</table>\n",
       "</div>"
      ],
      "text/plain": [
       "                                              answer  answer_score  \\\n",
       "0  PersonB has to attribute PersonA and, if possi...             0   \n",
       "1  Are there ways to comply with GDPR and not dis...             1   \n",
       "2  A related post is here. Are police required to...             4   \n",
       "3  This might be an unnecessary subtle point, but...             2   \n",
       "4  This is a Federal court decision There are no ...             7   \n",
       "\n",
       "             filename                          id  \\\n",
       "0  law-qa-train.jsonl  law-stackexchange-qa-13384   \n",
       "1  law-qa-train.jsonl  law-stackexchange-qa-29296   \n",
       "2  law-qa-train.jsonl  law-stackexchange-qa-30036   \n",
       "3  law-qa-train.jsonl  law-stackexchange-qa-43835   \n",
       "4  law-qa-train.jsonl  law-stackexchange-qa-49039   \n",
       "\n",
       "                                            question  question_score  \\\n",
       "0  How does the attribution part of the CC licens...               0   \n",
       "1  I'm working as a processor, we host and develo...               0   \n",
       "2  Are police required to record in car dashcam v...               1   \n",
       "3  If someone enters personal data in a field whi...               1   \n",
       "4  In a recent case involving an accusation of ex...               1   \n",
       "\n",
       "                                                tags  \\\n",
       "0                       attribution,creative-commons   \n",
       "1                                               gdpr   \n",
       "2         discovery,new-jersey,traffic,united-states   \n",
       "3  data-protection,data-storage,encryption,europe...   \n",
       "4                  appeal,criminal-law,united-states   \n",
       "\n",
       "                                               title  \n",
       "0                             CC-BY Layers of people  \n",
       "1  Do i have to disclose all processors to my con...  \n",
       "2  What can I do if police did not record video i...  \n",
       "3  Does GDPR apply to personal information entere...  \n",
       "4              Federal judge sets aside jury verdict  "
      ]
     },
     "execution_count": 10,
     "metadata": {},
     "output_type": "execute_result"
    }
   ],
   "source": [
    "import pandas as pd\n",
    "synth_ds = \"data/raw/synth_data.jsonl\"\n",
    "synth_ds = DocumentDataset.read_json(synth_ds)\n",
    "#dataset_df = pd.merge(dataset_df, synth_ds, on='key')\n",
    "synth_ds.df.head()"
   ]
  },
  {
   "cell_type": "markdown",
   "metadata": {},
   "source": [
    "Next, we need to define our data curation pipeline. The pipeline we define here is very simple, as it contains basic filtering operations\n",
    "\n",
    "> NOTE: to use the modules that need a GPU, the dataset has to be converted to the `cudf` backend. Please refer to [this tutorial](https://github.com/NVIDIA/NeMo-Curator/tree/main/tutorials/peft-curation-with-sdg) for an example demonstrating the usage of GPU modules."
   ]
  },
  {
   "cell_type": "code",
   "execution_count": 142,
   "metadata": {
    "tags": []
   },
   "outputs": [],
   "source": [
    "def run_curation_pipeline(dataset: DocumentDataset, device: str) -> DocumentDataset:\n",
    "    print(f\"Running curation pipeline on '{device}'...\")\n",
    "    orig_dataset = dataset\n",
    "\n",
    "    cpu_curation_steps = Sequential(\n",
    "        [\n",
    "            #\n",
    "            # Modifications\n",
    "            #\n",
    "            # Unify the text encoding to Unicode.\n",
    "            Modify(UnicodeReformatter(), text_field=\"title\"),\n",
    "            Modify(UnicodeReformatter(), text_field=\"question\"),\n",
    "            #\n",
    "            # Filtering\n",
    "            #\n",
    "            # Filter out records based on the question word counts.\n",
    "            ScoreFilter(\n",
    "                WordCountFilter(min_words=40, max_words=400),\n",
    "                text_field=\"question\",\n",
    "                score_type=int,\n",
    "            ),\n",
    "            # Filter out records where the question has a negative score.\n",
    "            ScoreFilter(\n",
    "                FilterLowScores(score_threshold=0),\n",
    "                text_field=\"question_score\",\n",
    "                score_type=bool,\n",
    "            ),\n",
    "        ]\n",
    "    )\n",
    "\n",
    "    # Run the CPU curation steps.\n",
    "    dataset = cpu_curation_steps(dataset)\n",
    "    dataset = dataset.persist()\n",
    "    # Drop the columns that are no longer needed.\n",
    "    dataset.df = dataset.df.drop(columns=[\"answer\", \"answer_score\", \"question_score\"])\n",
    "    orig_len = len(orig_dataset.df)\n",
    "    new_len = len(dataset.df)\n",
    "\n",
    "    print(f\"Original dataset length: {orig_len}\")\n",
    "    print(f\"New dataset length: {new_len}\")\n",
    "\n",
    "    return dataset"
   ]
  },
  {
   "cell_type": "markdown",
   "metadata": {},
   "source": [
    "Finally, we are ready to run the pipeline and get our final dataset. This may take up to 10 minutes to execute, especially if any GPU functionalities are used."
   ]
  },
  {
   "cell_type": "code",
   "execution_count": 143,
   "metadata": {
    "tags": []
   },
   "outputs": [
    {
     "name": "stdout",
     "output_type": "stream",
     "text": [
      "Running curation pipeline on 'cpu'...\n"
     ]
    },
    {
     "name": "stderr",
     "output_type": "stream",
     "text": [
      "/usr/local/lib/python3.10/dist-packages/distributed/client.py:3361: UserWarning: Sending large graph of size 85.04 MiB.\n",
      "This may cause some slowdown.\n",
      "Consider loading the data with Dask directly\n",
      " or using futures or delayed objects to embed the data into the graph without repetition.\n",
      "See also https://docs.dask.org/en/stable/best-practices.html#load-data-with-dask for more information.\n",
      "  warnings.warn(\n",
      "/usr/local/lib/python3.10/dist-packages/distributed/client.py:3361: UserWarning: Sending large graph of size 85.04 MiB.\n",
      "This may cause some slowdown.\n",
      "Consider loading the data with Dask directly\n",
      " or using futures or delayed objects to embed the data into the graph without repetition.\n",
      "See also https://docs.dask.org/en/stable/best-practices.html#load-data-with-dask for more information.\n",
      "  warnings.warn(\n"
     ]
    },
    {
     "name": "stdout",
     "output_type": "stream",
     "text": [
      "Original dataset length: 36587\n",
      "New dataset length: 31490\n"
     ]
    }
   ],
   "source": [
    "curated_dataset = run_curation_pipeline(raw_dataset, device)"
   ]
  },
  {
   "cell_type": "markdown",
   "metadata": {},
   "source": [
    "Next, let's specify the final columns that we would like our dataset to have. Depending on how you plan on consuming this dataset for training, you may decide to introduce other arbitrary columns to help the model learn better.\n",
    "\n",
    "Also, this is a great place to add system or instruction prompts to every record, in case you intend to use the same instruction prompt for every record.\n",
    "\n",
    "Let's define a function that formats the dataset, and also adds system prompts."
   ]
  },
  {
   "cell_type": "code",
   "execution_count": 144,
   "metadata": {
    "tags": []
   },
   "outputs": [],
   "source": [
    "def format_dataset(dataset: DocumentDataset, filename: str) -> DocumentDataset:\n",
    "   # SYSTEM_PROMPT = \"Read the following title and question about a legal issue and assign the most appropriate tag to it. All tags must be in lowercase, ordered lexicographically and separated by commas.\\n\\n\"\n",
    "\n",
    "    SYSTEM_PROMPT = \"Read the question about legal issues and assign between 1 and 5 tags to it such as the type of law, key legal concept, location. All tags must be in lowercase, this-format, ordered lexicographically and separated by commas.\\n\\n\"\n",
    "\n",
    "    df = dataset.df.compute()\n",
    "    has_tags = \"tags\" in df.columns\n",
    "    df[\"input\"] = SYSTEM_PROMPT + \"TITLE:\\n\" + df[\"title\"] + \"\\n\\n\" + \"QUESTION:\\n\" + df[\"question\"]\n",
    "    df[\"output\"] = df[\"tags\"] if has_tags else \"\"  # If the dataset doesn't have tags, use an empty string.\n",
    "    df[\"filename\"] = filename\n",
    "\n",
    "    df = df.drop(columns=[\"title\", \"question\"])\n",
    "    if has_tags:\n",
    "        df = df.drop(columns=[\"tags\"]) # Drop the tags column if it exists.\n",
    "    return DocumentDataset.from_pandas(df)"
   ]
  },
  {
   "cell_type": "markdown",
   "metadata": {},
   "source": [
    "We use the function above to format the dataset. We apply the same logic to the final evaluation dataset."
   ]
  },
  {
   "cell_type": "code",
   "execution_count": 145,
   "metadata": {
    "tags": []
   },
   "outputs": [
    {
     "name": "stdout",
     "output_type": "stream",
     "text": [
      "Original dataset columns: Index(['filename', 'id', 'title', 'question', 'tags'], dtype='object')\n",
      "Formatted dataset columns: Index(['filename', 'id', 'input', 'output'], dtype='object')\n"
     ]
    }
   ],
   "source": [
    "formatted_dataset = format_dataset(curated_dataset, \"law-stackexchange-curated.jsonl\")\n",
    "print(f\"Original dataset columns: {curated_dataset.df.columns}\")\n",
    "print(f\"Formatted dataset columns: {formatted_dataset.df.columns}\")"
   ]
  },
  {
   "cell_type": "markdown",
   "metadata": {},
   "source": [
    "Once the final dataset is ready, we can write it into a JSONL file that is in the format expected for training with NeMo Framework.\n",
    "\n",
    "> NOTE: The curated dataset will be written under `curator/data/curated_dataset/law-stackexchange-curated.jsonl`"
   ]
  },
  {
   "cell_type": "code",
   "execution_count": 146,
   "metadata": {
    "tags": []
   },
   "outputs": [
    {
     "name": "stdout",
     "output_type": "stream",
     "text": [
      "Curated dataset columns: Index(['filename', 'id', 'input', 'output'], dtype='object')\n",
      "\n",
      "Saving curated dataset to '/root/ODSC-Hackathon-Repository/data/curated_dataset'...\n"
     ]
    },
    {
     "name": "stderr",
     "output_type": "stream",
     "text": [
      "/usr/local/lib/python3.10/dist-packages/distributed/client.py:3361: UserWarning: Sending large graph of size 35.63 MiB.\n",
      "This may cause some slowdown.\n",
      "Consider loading the data with Dask directly\n",
      " or using futures or delayed objects to embed the data into the graph without repetition.\n",
      "See also https://docs.dask.org/en/stable/best-practices.html#load-data-with-dask for more information.\n",
      "  warnings.warn(\n"
     ]
    },
    {
     "name": "stdout",
     "output_type": "stream",
     "text": [
      "Writing to disk complete for 1 partitions\n"
     ]
    }
   ],
   "source": [
    "print(f\"Curated dataset columns: {formatted_dataset.df.columns}\")\n",
    "result_fp = os.path.join(DATA_DIR, \"curated_dataset\")\n",
    "print()\n",
    "print(f\"Saving curated dataset to '{result_fp}'...\")\n",
    "formatted_dataset.to_json(result_fp, write_to_filename=True)"
   ]
  },
  {
   "cell_type": "markdown",
   "metadata": {},
   "source": [
    "---\n",
    "# Spliting the Dataset\n",
    "\n",
    "Before starting the model training procedure, let's split the dataset we've just curated into `training`, `validation` and `test` splits with 80/10/10 ratios."
   ]
  },
  {
   "cell_type": "code",
   "execution_count": 147,
   "metadata": {
    "tags": []
   },
   "outputs": [
    {
     "name": "stderr",
     "output_type": "stream",
     "text": [
      "/usr/local/lib/python3.10/dist-packages/distributed/client.py:3361: UserWarning: Sending large graph of size 35.63 MiB.\n",
      "This may cause some slowdown.\n",
      "Consider loading the data with Dask directly\n",
      " or using futures or delayed objects to embed the data into the graph without repetition.\n",
      "See also https://docs.dask.org/en/stable/best-practices.html#load-data-with-dask for more information.\n",
      "  warnings.warn(\n"
     ]
    },
    {
     "name": "stdout",
     "output_type": "stream",
     "text": [
      "Original size: 31490\n",
      "After splitting:\n",
      "    Train size: 29916\n",
      "    Validation size: 1574\n"
     ]
    },
    {
     "name": "stderr",
     "output_type": "stream",
     "text": [
      "/usr/local/lib/python3.10/dist-packages/distributed/client.py:3361: UserWarning: Sending large graph of size 33.95 MiB.\n",
      "This may cause some slowdown.\n",
      "Consider loading the data with Dask directly\n",
      " or using futures or delayed objects to embed the data into the graph without repetition.\n",
      "See also https://docs.dask.org/en/stable/best-practices.html#load-data-with-dask for more information.\n",
      "  warnings.warn(\n"
     ]
    },
    {
     "name": "stdout",
     "output_type": "stream",
     "text": [
      "Writing to disk complete for 1 partitions\n",
      "Writing to disk complete for 1 partitions\n"
     ]
    }
   ],
   "source": [
    "from sklearn.model_selection import train_test_split\n",
    "\n",
    "VAL_RATIO = 0.05\n",
    "\n",
    "df = formatted_dataset.df.compute()\n",
    "\n",
    "# Some sanity checks\n",
    "assert len(df) > 0, \"The dataset is empty.\"\n",
    "assert VAL_RATIO >= 0 and VAL_RATIO <= 1, \"VAL_RATIO must be between 0 and 1.\"\n",
    "val_size = int(len(df) * VAL_RATIO)\n",
    "output_dir = f\"{DATA_DIR}/split\"\n",
    "os.makedirs(output_dir, exist_ok=True)\n",
    "\n",
    "# Split the data into training and temporary sets\n",
    "train_df, val_df = train_test_split(df, test_size=val_size, random_state=42)\n",
    "\n",
    "print(f\"Original size: {len(df)}\")\n",
    "print(\"After splitting:\")\n",
    "print(f\"    Train size: {len(train_df)}\")\n",
    "print(f\"    Validation size: {len(val_df)}\")\n",
    "\n",
    "train_df[\"filename\"] = \"train.jsonl\"\n",
    "val_df[\"filename\"] = \"val.jsonl\"\n",
    "\n",
    "DocumentDataset.from_pandas(train_df).to_json(output_dir, write_to_filename=True)\n",
    "DocumentDataset.from_pandas(val_df).to_json(output_dir, write_to_filename=True)\n"
   ]
  },
  {
   "cell_type": "markdown",
   "metadata": {},
   "source": [
    "---\n",
    "# Preparing the Submission Dataset\n",
    "\n",
    "The submission dataset is dataset of questions and titles, where every participating team would have to predict the tags for.\n",
    "It needs to have a format similar to training datasets so that you can evaluate your model on it, and submit your predicted tags."
   ]
  },
  {
   "cell_type": "code",
   "execution_count": 148,
   "metadata": {
    "tags": []
   },
   "outputs": [
    {
     "name": "stdout",
     "output_type": "stream",
     "text": [
      "Reading 1 files\n",
      "Writing the formatted submission dataset to disk...\n",
      "Writing to disk complete for 1 partitions\n"
     ]
    }
   ],
   "source": [
    "submission_ds = \"data/submission/evaluation-dataset-verified-for-participants.jsonl\"\n",
    "assert os.path.exists(submission_ds), f\"The submission dataset does not exist at '{submission_ds}'\"\n",
    "submission_ds = DocumentDataset.read_json(submission_ds)\n",
    "submission_ds = format_dataset(submission_ds, \"submission.jsonl\")\n",
    "print(\"Writing the formatted submission dataset to disk...\")\n",
    "submission_ds.to_json(output_dir, write_to_filename=True)"
   ]
  },
  {
   "cell_type": "markdown",
   "metadata": {},
   "source": [
    "Once you have run the above cell, your data that is suitable for training will be written under `data/split`. When making submissions, run inference with your model on `data/split/submission.jsonl`."
   ]
  },
  {
   "cell_type": "markdown",
   "metadata": {},
   "source": [
    "---\n",
    "# Freeing Memory and Other Resources\n",
    "\n",
    "Before moving to the next notebook, please execute the following cell to free up all the allocated resources to avoid running into out-of-memory or other issues.\n",
    "\n",
    "Alternatively, please restart the kernel by navigating to `Kernel > Restart Kernel` (if using Jypyter notebook), or clicking the `Restart` button in VS Code."
   ]
  },
  {
   "cell_type": "code",
   "execution_count": 149,
   "metadata": {
    "tags": []
   },
   "outputs": [],
   "source": [
    "client.close()\n",
    "exit(0)"
   ]
  },
  {
   "cell_type": "code",
   "execution_count": null,
   "metadata": {},
   "outputs": [],
   "source": []
  }
 ],
 "metadata": {
  "kernelspec": {
   "display_name": "Python 3 (ipykernel)",
   "language": "python",
   "name": "python3"
  },
  "language_info": {
   "codemirror_mode": {
    "name": "ipython",
    "version": 3
   },
   "file_extension": ".py",
   "mimetype": "text/x-python",
   "name": "python",
   "nbconvert_exporter": "python",
   "pygments_lexer": "ipython3",
   "version": "3.10.8"
  }
 },
 "nbformat": 4,
 "nbformat_minor": 4
}
